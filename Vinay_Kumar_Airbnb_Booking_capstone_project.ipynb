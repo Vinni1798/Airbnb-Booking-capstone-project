{
  "nbformat": 4,
  "nbformat_minor": 0,
  "metadata": {
    "colab": {
      "name": "Vinay Kumar -Airbnb  Booking capstone project",
      "provenance": [],
      "collapsed_sections": [
        "T2pfx1xTqwlZ",
        "IHQYmiDArDAH",
        "Cg7wIJwGcrgf",
        "CBwcNzDAi1-P",
        "eqCS2Jcnvflc",
        "9ZMAeU0J_onJ",
        "Spn-xxiREk5f",
        "86Yr6OCrQd-9"
      ],
      "authorship_tag": "ABX9TyP7kKbycNZdihffMDge+cnv",
      "include_colab_link": true
    },
    "kernelspec": {
      "display_name": "Python 3",
      "name": "python3"
    },
    "language_info": {
      "name": "python"
    }
  },
  "cells": [
    {
      "cell_type": "markdown",
      "metadata": {
        "id": "view-in-github",
        "colab_type": "text"
      },
      "source": [
        "<a href=\"https://colab.research.google.com/github/Vinni1798/Airbnb-Booking-capstone-project/blob/main/Vinay_Kumar_Airbnb_Booking_capstone_project.ipynb\" target=\"_parent\"><img src=\"https://colab.research.google.com/assets/colab-badge.svg\" alt=\"Open In Colab\"/></a>"
      ]
    },
    {
      "cell_type": "markdown",
      "metadata": {
        "id": "Y06xIdG26kRF"
      },
      "source": [
        "## <b> Since 2008, guests and hosts have used Airbnb to expand on traveling possibilities and present a more unique, personalized way of experiencing the world. Today, Airbnb became one of a kind service that is used and recognized by the whole world. Data analysis on millions of listings provided through Airbnb is a crucial factor for the company. These millions of listings generate a lot of data - data that can be analyzed and used for security, business decisions, understanding of customers' and providers' (hosts) behavior and performance on the platform, guiding marketing initiatives, implementation of innovative additional services and much more. </b>\n",
        "\n",
        "## <b>This dataset has around 49,000 observations in it with 16 columns and it is a mix between categorical and numeric values. </b>\n",
        "\n",
        "## <b> Explore and analyze the data to discover key understandings (not limited to these) such as : \n",
        "* What can we learn about different hosts and areas?\n",
        "* What can we learn from predictions? (ex: locations, prices, reviews, etc)\n",
        "* Which hosts are the busiest and why?\n",
        "* Is there any noticeable difference of traffic among different areas and what could be the reason for it? </b>"
      ]
    },
    {
      "cell_type": "markdown",
      "metadata": {
        "id": "T2pfx1xTqwlZ"
      },
      "source": [
        "# **Import of Python Libraries**"
      ]
    },
    {
      "cell_type": "code",
      "metadata": {
        "colab": {
          "background_save": true
        },
        "id": "dByMsuzT8Tnw"
      },
      "source": [
        "import numpy as np\n",
        "import pandas as pd\n",
        "import matplotlib.pyplot as plt\n",
        "import matplotlib.cm as cm\n",
        "import seaborn as sns \n",
        "%matplotlib inline\n",
        "sns.set_theme(style=\"whitegrid\")\n",
        "import warnings\n",
        "warnings.filterwarnings('ignore')\n",
        "from datetime import datetime\n",
        "from datetime import timedelta\n",
        "from dateutil.relativedelta import relativedelta"
      ],
      "execution_count": null,
      "outputs": []
    },
    {
      "cell_type": "markdown",
      "metadata": {
        "id": "IHQYmiDArDAH"
      },
      "source": [
        "# **Path of DataFrame** "
      ]
    },
    {
      "cell_type": "code",
      "metadata": {
        "colab": {
          "base_uri": "https://localhost:8080/"
        },
        "id": "_LjS6jWbtUHr",
        "outputId": "287e34f3-1851-48ac-e6cc-2c7027bffdca"
      },
      "source": [
        "from google.colab import drive\n",
        "drive.mount('/content/drive')"
      ],
      "execution_count": null,
      "outputs": [
        {
          "name": "stdout",
          "output_type": "stream",
          "text": [
            "Go to this URL in a browser: https://accounts.google.com/o/oauth2/auth?client_id=947318989803-6bn6qk8qdgf4n4g3pfee6491hc0brc4i.apps.googleusercontent.com&redirect_uri=urn%3aietf%3awg%3aoauth%3a2.0%3aoob&scope=email%20https%3a%2f%2fwww.googleapis.com%2fauth%2fdocs.test%20https%3a%2f%2fwww.googleapis.com%2fauth%2fdrive%20https%3a%2f%2fwww.googleapis.com%2fauth%2fdrive.photos.readonly%20https%3a%2f%2fwww.googleapis.com%2fauth%2fpeopleapi.readonly%20https%3a%2f%2fwww.googleapis.com%2fauth%2fdrive.activity.readonly%20https%3a%2f%2fwww.googleapis.com%2fauth%2fexperimentsandconfigs%20https%3a%2f%2fwww.googleapis.com%2fauth%2fphotos.native&response_type=code\n",
            "\n",
            "Enter your authorization code:\n",
            "4/1AX4XfWgqv68fxD13oRHy6rqIb-iRimVzHsYfh-jxN3nDxmtwxG7oOb8rJ8E\n"
          ]
        }
      ]
    },
    {
      "cell_type": "code",
      "metadata": {
        "colab": {
          "base_uri": "https://localhost:8080/",
          "height": 411
        },
        "id": "KETHG2pstcug",
        "outputId": "32a40182-563a-49ea-a511-d84fa073b2d1"
      },
      "source": [
        "dir_path = '/content/drive/MyDrive/Almabetter/Kailash/captone project/Airbnb NYC 2019.csv'\n",
        "df = pd.read_csv(dir_path)\n",
        "df.head()"
      ],
      "execution_count": null,
      "outputs": [
        {
          "data": {
            "text/html": [
              "<div>\n",
              "<style scoped>\n",
              "    .dataframe tbody tr th:only-of-type {\n",
              "        vertical-align: middle;\n",
              "    }\n",
              "\n",
              "    .dataframe tbody tr th {\n",
              "        vertical-align: top;\n",
              "    }\n",
              "\n",
              "    .dataframe thead th {\n",
              "        text-align: right;\n",
              "    }\n",
              "</style>\n",
              "<table border=\"1\" class=\"dataframe\">\n",
              "  <thead>\n",
              "    <tr style=\"text-align: right;\">\n",
              "      <th></th>\n",
              "      <th>id</th>\n",
              "      <th>name</th>\n",
              "      <th>host_id</th>\n",
              "      <th>host_name</th>\n",
              "      <th>neighbourhood_group</th>\n",
              "      <th>neighbourhood</th>\n",
              "      <th>latitude</th>\n",
              "      <th>longitude</th>\n",
              "      <th>room_type</th>\n",
              "      <th>price</th>\n",
              "      <th>minimum_nights</th>\n",
              "      <th>number_of_reviews</th>\n",
              "      <th>last_review</th>\n",
              "      <th>reviews_per_month</th>\n",
              "      <th>calculated_host_listings_count</th>\n",
              "      <th>availability_365</th>\n",
              "    </tr>\n",
              "  </thead>\n",
              "  <tbody>\n",
              "    <tr>\n",
              "      <th>0</th>\n",
              "      <td>2539</td>\n",
              "      <td>Clean &amp; quiet apt home by the park</td>\n",
              "      <td>2787</td>\n",
              "      <td>John</td>\n",
              "      <td>Brooklyn</td>\n",
              "      <td>Kensington</td>\n",
              "      <td>40.64749</td>\n",
              "      <td>-73.97237</td>\n",
              "      <td>Private room</td>\n",
              "      <td>149</td>\n",
              "      <td>1</td>\n",
              "      <td>9</td>\n",
              "      <td>2018-10-19</td>\n",
              "      <td>0.21</td>\n",
              "      <td>6</td>\n",
              "      <td>365</td>\n",
              "    </tr>\n",
              "    <tr>\n",
              "      <th>1</th>\n",
              "      <td>2595</td>\n",
              "      <td>Skylit Midtown Castle</td>\n",
              "      <td>2845</td>\n",
              "      <td>Jennifer</td>\n",
              "      <td>Manhattan</td>\n",
              "      <td>Midtown</td>\n",
              "      <td>40.75362</td>\n",
              "      <td>-73.98377</td>\n",
              "      <td>Entire home/apt</td>\n",
              "      <td>225</td>\n",
              "      <td>1</td>\n",
              "      <td>45</td>\n",
              "      <td>2019-05-21</td>\n",
              "      <td>0.38</td>\n",
              "      <td>2</td>\n",
              "      <td>355</td>\n",
              "    </tr>\n",
              "    <tr>\n",
              "      <th>2</th>\n",
              "      <td>3647</td>\n",
              "      <td>THE VILLAGE OF HARLEM....NEW YORK !</td>\n",
              "      <td>4632</td>\n",
              "      <td>Elisabeth</td>\n",
              "      <td>Manhattan</td>\n",
              "      <td>Harlem</td>\n",
              "      <td>40.80902</td>\n",
              "      <td>-73.94190</td>\n",
              "      <td>Private room</td>\n",
              "      <td>150</td>\n",
              "      <td>3</td>\n",
              "      <td>0</td>\n",
              "      <td>NaN</td>\n",
              "      <td>NaN</td>\n",
              "      <td>1</td>\n",
              "      <td>365</td>\n",
              "    </tr>\n",
              "    <tr>\n",
              "      <th>3</th>\n",
              "      <td>3831</td>\n",
              "      <td>Cozy Entire Floor of Brownstone</td>\n",
              "      <td>4869</td>\n",
              "      <td>LisaRoxanne</td>\n",
              "      <td>Brooklyn</td>\n",
              "      <td>Clinton Hill</td>\n",
              "      <td>40.68514</td>\n",
              "      <td>-73.95976</td>\n",
              "      <td>Entire home/apt</td>\n",
              "      <td>89</td>\n",
              "      <td>1</td>\n",
              "      <td>270</td>\n",
              "      <td>2019-07-05</td>\n",
              "      <td>4.64</td>\n",
              "      <td>1</td>\n",
              "      <td>194</td>\n",
              "    </tr>\n",
              "    <tr>\n",
              "      <th>4</th>\n",
              "      <td>5022</td>\n",
              "      <td>Entire Apt: Spacious Studio/Loft by central park</td>\n",
              "      <td>7192</td>\n",
              "      <td>Laura</td>\n",
              "      <td>Manhattan</td>\n",
              "      <td>East Harlem</td>\n",
              "      <td>40.79851</td>\n",
              "      <td>-73.94399</td>\n",
              "      <td>Entire home/apt</td>\n",
              "      <td>80</td>\n",
              "      <td>10</td>\n",
              "      <td>9</td>\n",
              "      <td>2018-11-19</td>\n",
              "      <td>0.10</td>\n",
              "      <td>1</td>\n",
              "      <td>0</td>\n",
              "    </tr>\n",
              "  </tbody>\n",
              "</table>\n",
              "</div>"
            ],
            "text/plain": [
              "     id  ... availability_365\n",
              "0  2539  ...              365\n",
              "1  2595  ...              355\n",
              "2  3647  ...              365\n",
              "3  3831  ...              194\n",
              "4  5022  ...                0\n",
              "\n",
              "[5 rows x 16 columns]"
            ]
          },
          "execution_count": 4,
          "metadata": {},
          "output_type": "execute_result"
        }
      ]
    },
    {
      "cell_type": "markdown",
      "metadata": {
        "id": "Cg7wIJwGcrgf"
      },
      "source": [
        "# **Describing the columns of the DataFrame**"
      ]
    },
    {
      "cell_type": "markdown",
      "metadata": {
        "id": "3bG561wJcrgg"
      },
      "source": [
        "### ***Columns of the DataFrame***\n",
        "\n",
        "---\n",
        "\n",
        "\n",
        "### ***Id-***It is listing id. Whenever a host list its property on Airbnb, a unique id is created, since every id is unique there are 458895 unique id.\n",
        "### As per my observation ,every listing is a listing of unique properties.(means the same property is not listed more than 1)\n",
        "\n",
        "###  ***Name*** **-** It is the property description. Two properties can have the same name, but they are not the same property, every property in the data are unique, as all of them are having different longitude and latitude, that means every properties are situated in different location. \n",
        "\n",
        "###  ***host_id-*** Its the identity id given to individual host (For example- two different host cant have the same host_id). So if we want to count the number of host, we count the unique host_id.\n",
        "\n",
        "### ***Neighbourhood_group-*** This are the 5 Boroughs of New York city, in which the property is located.\n",
        "\n",
        "###  ***Neighbourhood-*** This are the towns and villages in New York\n",
        "\n",
        "###  ***Room_type-*** Types of properties \n",
        "\n",
        "###  ***Price-***  Property price per day\n",
        "\n",
        "###  ***Minimum_nights-*** It is the minimum number of night you can book a property,( example-1 year rental contract)\n",
        "\n",
        "###  ***Number_of_reviews-*** Total number of reviews \n",
        "\n",
        "###  ***Calculated_host_listing_count-*** The number of times the host has listed its property.\n",
        "###  ***Availabilitty_365-*** The number of days the property were available for booking."
      ]
    },
    {
      "cell_type": "markdown",
      "metadata": {
        "id": "CBwcNzDAi1-P"
      },
      "source": [
        "# **Checking the sanity of data**"
      ]
    },
    {
      "cell_type": "code",
      "metadata": {
        "colab": {
          "base_uri": "https://localhost:8080/"
        },
        "id": "XbRBgZq2hks9",
        "outputId": "ee3f298c-1c75-4634-ccb0-f23eea80a8ae"
      },
      "source": [
        "df.info()"
      ],
      "execution_count": null,
      "outputs": [
        {
          "name": "stdout",
          "output_type": "stream",
          "text": [
            "<class 'pandas.core.frame.DataFrame'>\n",
            "RangeIndex: 48895 entries, 0 to 48894\n",
            "Data columns (total 16 columns):\n",
            " #   Column                          Non-Null Count  Dtype  \n",
            "---  ------                          --------------  -----  \n",
            " 0   id                              48895 non-null  int64  \n",
            " 1   name                            48879 non-null  object \n",
            " 2   host_id                         48895 non-null  int64  \n",
            " 3   host_name                       48874 non-null  object \n",
            " 4   neighbourhood_group             48895 non-null  object \n",
            " 5   neighbourhood                   48895 non-null  object \n",
            " 6   latitude                        48895 non-null  float64\n",
            " 7   longitude                       48895 non-null  float64\n",
            " 8   room_type                       48895 non-null  object \n",
            " 9   price                           48895 non-null  int64  \n",
            " 10  minimum_nights                  48895 non-null  int64  \n",
            " 11  number_of_reviews               48895 non-null  int64  \n",
            " 12  last_review                     38843 non-null  object \n",
            " 13  reviews_per_month               38843 non-null  float64\n",
            " 14  calculated_host_listings_count  48895 non-null  int64  \n",
            " 15  availability_365                48895 non-null  int64  \n",
            "dtypes: float64(3), int64(7), object(6)\n",
            "memory usage: 6.0+ MB\n"
          ]
        }
      ]
    },
    {
      "cell_type": "markdown",
      "metadata": {
        "id": "IG1DKOeSsyH5"
      },
      "source": [
        "## **Check and sum the number of  NaN values  present in each columns**"
      ]
    },
    {
      "cell_type": "code",
      "metadata": {
        "colab": {
          "base_uri": "https://localhost:8080/"
        },
        "id": "skOU7s4lsyH6",
        "outputId": "62109e8c-7cd1-4612-db33-c82dc1c879b8"
      },
      "source": [
        "df.isnull().sum()"
      ],
      "execution_count": null,
      "outputs": [
        {
          "data": {
            "text/plain": [
              "id                                    0\n",
              "name                                 16\n",
              "host_id                               0\n",
              "host_name                            21\n",
              "neighbourhood_group                   0\n",
              "neighbourhood                         0\n",
              "latitude                              0\n",
              "longitude                             0\n",
              "room_type                             0\n",
              "price                                 0\n",
              "minimum_nights                        0\n",
              "number_of_reviews                     0\n",
              "last_review                       10052\n",
              "reviews_per_month                 10052\n",
              "calculated_host_listings_count        0\n",
              "availability_365                      0\n",
              "dtype: int64"
            ]
          },
          "execution_count": 6,
          "metadata": {},
          "output_type": "execute_result"
        }
      ]
    },
    {
      "cell_type": "markdown",
      "metadata": {
        "id": "eV9Mg2CL2YEv"
      },
      "source": [
        "### **Clean the Dataset**"
      ]
    },
    {
      "cell_type": "markdown",
      "metadata": {
        "id": "8Q2KjypusyH7"
      },
      "source": [
        "## **Replace NaN values present in 'name' column by 'name not found'**"
      ]
    },
    {
      "cell_type": "code",
      "metadata": {
        "id": "nasv0QiasyH7"
      },
      "source": [
        "df.loc[df['name'].isna(), 'name']=df.loc[df['name'].isna(), 'name'].apply(lambda x: \"name not found\")"
      ],
      "execution_count": null,
      "outputs": []
    },
    {
      "cell_type": "markdown",
      "metadata": {
        "id": "46EqWhxCsyH7"
      },
      "source": [
        "## **Fill NaN values present in 'host_name' column by \"no name\"**"
      ]
    },
    {
      "cell_type": "code",
      "metadata": {
        "id": "5HBoHFwksyH7"
      },
      "source": [
        "df.loc[df['host_name'].isna(), 'host_name']=df.loc[df['host_name'].isna(), 'host_name'].apply(lambda x: \"no name\")"
      ],
      "execution_count": null,
      "outputs": []
    },
    {
      "cell_type": "markdown",
      "metadata": {
        "id": "nnJC5lyvsyH8"
      },
      "source": [
        "## **Replace NaN values present in 'last_review' column by 0**"
      ]
    },
    {
      "cell_type": "code",
      "metadata": {
        "id": "aCVPkgQHsyH8"
      },
      "source": [
        "df.loc[df['last_review'].isna(), 'last_review']=df.loc[df['last_review'].isna(), 'last_review'].apply(lambda x: 0)"
      ],
      "execution_count": null,
      "outputs": []
    },
    {
      "cell_type": "markdown",
      "metadata": {
        "id": "FLdmUnDOsyH8"
      },
      "source": [
        "## **Replace NaN values present in 'reviews_per_month' column by 0**"
      ]
    },
    {
      "cell_type": "code",
      "metadata": {
        "id": "mdgbTmybsyH8"
      },
      "source": [
        "df.loc[df['reviews_per_month'].isna(), 'reviews_per_month']=df.loc[df['reviews_per_month'].isna(), 'reviews_per_month'].apply(lambda x: 0)"
      ],
      "execution_count": null,
      "outputs": []
    },
    {
      "cell_type": "markdown",
      "metadata": {
        "id": "m0A7cVqgj6LD"
      },
      "source": [
        "## **Drop unecessary  column like \"id\"** \n",
        "\n",
        "\n",
        "\n",
        "\n"
      ]
    },
    {
      "cell_type": "code",
      "metadata": {
        "id": "6OV6eQQ2j4Zp"
      },
      "source": [
        "df.drop(['id'], axis=1,inplace=True)"
      ],
      "execution_count": null,
      "outputs": []
    },
    {
      "cell_type": "markdown",
      "metadata": {
        "id": "sh5vgTHFwjGG"
      },
      "source": [
        "## **Verify cleaned Data**"
      ]
    },
    {
      "cell_type": "code",
      "metadata": {
        "colab": {
          "base_uri": "https://localhost:8080/"
        },
        "id": "mYej3O_1wyKf",
        "outputId": "b2e0d556-1e2a-4b5c-ab9b-1b1381a93e08"
      },
      "source": [
        "df.isna().sum()  #no NaN vlaues present in any of these columns "
      ],
      "execution_count": null,
      "outputs": [
        {
          "data": {
            "text/plain": [
              "name                              0\n",
              "host_id                           0\n",
              "host_name                         0\n",
              "neighbourhood_group               0\n",
              "neighbourhood                     0\n",
              "latitude                          0\n",
              "longitude                         0\n",
              "room_type                         0\n",
              "price                             0\n",
              "minimum_nights                    0\n",
              "number_of_reviews                 0\n",
              "last_review                       0\n",
              "reviews_per_month                 0\n",
              "calculated_host_listings_count    0\n",
              "availability_365                  0\n",
              "dtype: int64"
            ]
          },
          "execution_count": 12,
          "metadata": {},
          "output_type": "execute_result"
        }
      ]
    },
    {
      "cell_type": "markdown",
      "metadata": {
        "id": "1iN35d83x0tc"
      },
      "source": [
        "## **If price is 0 , replace it by the average price of all similar room_type with similar neighbourhood_group**"
      ]
    },
    {
      "cell_type": "code",
      "metadata": {
        "colab": {
          "base_uri": "https://localhost:8080/",
          "height": 235
        },
        "id": "Xj-iKkQHh0Pu",
        "outputId": "9b853a02-ee84-4335-f1be-c3531e0d4b4a"
      },
      "source": [
        "#Considering 3 column of the dataframe df\n",
        "df1=df[['neighbourhood_group','room_type','price']]\n",
        "\n",
        "#Create dataframe df2 containig price greater than zero\n",
        "df2=df1[df1.price!=0]\n",
        "\n",
        "# groupby neighbourhood_group and room_type, And find there average price \n",
        "df3=df2.groupby(['neighbourhood_group','room_type'])['price'].mean().unstack()\n",
        "df3"
      ],
      "execution_count": null,
      "outputs": [
        {
          "data": {
            "text/html": [
              "<div>\n",
              "<style scoped>\n",
              "    .dataframe tbody tr th:only-of-type {\n",
              "        vertical-align: middle;\n",
              "    }\n",
              "\n",
              "    .dataframe tbody tr th {\n",
              "        vertical-align: top;\n",
              "    }\n",
              "\n",
              "    .dataframe thead th {\n",
              "        text-align: right;\n",
              "    }\n",
              "</style>\n",
              "<table border=\"1\" class=\"dataframe\">\n",
              "  <thead>\n",
              "    <tr style=\"text-align: right;\">\n",
              "      <th>room_type</th>\n",
              "      <th>Entire home/apt</th>\n",
              "      <th>Private room</th>\n",
              "      <th>Shared room</th>\n",
              "    </tr>\n",
              "    <tr>\n",
              "      <th>neighbourhood_group</th>\n",
              "      <th></th>\n",
              "      <th></th>\n",
              "      <th></th>\n",
              "    </tr>\n",
              "  </thead>\n",
              "  <tbody>\n",
              "    <tr>\n",
              "      <th>Bronx</th>\n",
              "      <td>127.506596</td>\n",
              "      <td>66.890937</td>\n",
              "      <td>59.800000</td>\n",
              "    </tr>\n",
              "    <tr>\n",
              "      <th>Brooklyn</th>\n",
              "      <td>178.346202</td>\n",
              "      <td>76.545428</td>\n",
              "      <td>50.773723</td>\n",
              "    </tr>\n",
              "    <tr>\n",
              "      <th>Manhattan</th>\n",
              "      <td>249.257994</td>\n",
              "      <td>116.776622</td>\n",
              "      <td>88.977083</td>\n",
              "    </tr>\n",
              "    <tr>\n",
              "      <th>Queens</th>\n",
              "      <td>147.050573</td>\n",
              "      <td>71.762456</td>\n",
              "      <td>69.020202</td>\n",
              "    </tr>\n",
              "    <tr>\n",
              "      <th>Staten Island</th>\n",
              "      <td>173.846591</td>\n",
              "      <td>62.292553</td>\n",
              "      <td>57.444444</td>\n",
              "    </tr>\n",
              "  </tbody>\n",
              "</table>\n",
              "</div>"
            ],
            "text/plain": [
              "room_type            Entire home/apt  Private room  Shared room\n",
              "neighbourhood_group                                            \n",
              "Bronx                     127.506596     66.890937    59.800000\n",
              "Brooklyn                  178.346202     76.545428    50.773723\n",
              "Manhattan                 249.257994    116.776622    88.977083\n",
              "Queens                    147.050573     71.762456    69.020202\n",
              "Staten Island             173.846591     62.292553    57.444444"
            ]
          },
          "execution_count": 13,
          "metadata": {},
          "output_type": "execute_result"
        }
      ]
    },
    {
      "cell_type": "code",
      "metadata": {
        "id": "3WwEBfSYzowl"
      },
      "source": [
        "# Creat function to extract average price from dataframe df3\n",
        "def fun(neighbourhood_group,room_type):\n",
        " avg_price=df3.loc[neighbourhood_group,room_type]\n",
        " return avg_price"
      ],
      "execution_count": null,
      "outputs": []
    },
    {
      "cell_type": "code",
      "metadata": {
        "id": "WJns2lFCzsLU"
      },
      "source": [
        "# Repllace 0 price by the average price from the dataframe df3\n",
        "df['price']=df.apply(lambda x: fun(x['neighbourhood_group'],x['room_type'])  if x['price']==0 else x['price'], axis=1 )"
      ],
      "execution_count": null,
      "outputs": []
    },
    {
      "cell_type": "code",
      "metadata": {
        "colab": {
          "base_uri": "https://localhost:8080/",
          "height": 317
        },
        "id": "0wN1u50z0XQe",
        "outputId": "b447519c-f239-4c80-f8e8-1b455af97db9"
      },
      "source": [
        "df.describe()"
      ],
      "execution_count": null,
      "outputs": [
        {
          "data": {
            "text/html": [
              "<div>\n",
              "<style scoped>\n",
              "    .dataframe tbody tr th:only-of-type {\n",
              "        vertical-align: middle;\n",
              "    }\n",
              "\n",
              "    .dataframe tbody tr th {\n",
              "        vertical-align: top;\n",
              "    }\n",
              "\n",
              "    .dataframe thead th {\n",
              "        text-align: right;\n",
              "    }\n",
              "</style>\n",
              "<table border=\"1\" class=\"dataframe\">\n",
              "  <thead>\n",
              "    <tr style=\"text-align: right;\">\n",
              "      <th></th>\n",
              "      <th>host_id</th>\n",
              "      <th>latitude</th>\n",
              "      <th>longitude</th>\n",
              "      <th>price</th>\n",
              "      <th>minimum_nights</th>\n",
              "      <th>number_of_reviews</th>\n",
              "      <th>reviews_per_month</th>\n",
              "      <th>calculated_host_listings_count</th>\n",
              "      <th>availability_365</th>\n",
              "    </tr>\n",
              "  </thead>\n",
              "  <tbody>\n",
              "    <tr>\n",
              "      <th>count</th>\n",
              "      <td>4.889500e+04</td>\n",
              "      <td>48895.000000</td>\n",
              "      <td>48895.000000</td>\n",
              "      <td>48895.00000</td>\n",
              "      <td>48895.000000</td>\n",
              "      <td>48895.000000</td>\n",
              "      <td>48895.000000</td>\n",
              "      <td>48895.000000</td>\n",
              "      <td>48895.000000</td>\n",
              "    </tr>\n",
              "    <tr>\n",
              "      <th>mean</th>\n",
              "      <td>6.762001e+07</td>\n",
              "      <td>40.728949</td>\n",
              "      <td>-73.952170</td>\n",
              "      <td>152.74227</td>\n",
              "      <td>7.029962</td>\n",
              "      <td>23.274466</td>\n",
              "      <td>1.090910</td>\n",
              "      <td>7.143982</td>\n",
              "      <td>112.781327</td>\n",
              "    </tr>\n",
              "    <tr>\n",
              "      <th>std</th>\n",
              "      <td>7.861097e+07</td>\n",
              "      <td>0.054530</td>\n",
              "      <td>0.046157</td>\n",
              "      <td>240.14635</td>\n",
              "      <td>20.510550</td>\n",
              "      <td>44.550582</td>\n",
              "      <td>1.597283</td>\n",
              "      <td>32.952519</td>\n",
              "      <td>131.622289</td>\n",
              "    </tr>\n",
              "    <tr>\n",
              "      <th>min</th>\n",
              "      <td>2.438000e+03</td>\n",
              "      <td>40.499790</td>\n",
              "      <td>-74.244420</td>\n",
              "      <td>10.00000</td>\n",
              "      <td>1.000000</td>\n",
              "      <td>0.000000</td>\n",
              "      <td>0.000000</td>\n",
              "      <td>1.000000</td>\n",
              "      <td>0.000000</td>\n",
              "    </tr>\n",
              "    <tr>\n",
              "      <th>25%</th>\n",
              "      <td>7.822033e+06</td>\n",
              "      <td>40.690100</td>\n",
              "      <td>-73.983070</td>\n",
              "      <td>69.00000</td>\n",
              "      <td>1.000000</td>\n",
              "      <td>1.000000</td>\n",
              "      <td>0.040000</td>\n",
              "      <td>1.000000</td>\n",
              "      <td>0.000000</td>\n",
              "    </tr>\n",
              "    <tr>\n",
              "      <th>50%</th>\n",
              "      <td>3.079382e+07</td>\n",
              "      <td>40.723070</td>\n",
              "      <td>-73.955680</td>\n",
              "      <td>106.00000</td>\n",
              "      <td>3.000000</td>\n",
              "      <td>5.000000</td>\n",
              "      <td>0.370000</td>\n",
              "      <td>1.000000</td>\n",
              "      <td>45.000000</td>\n",
              "    </tr>\n",
              "    <tr>\n",
              "      <th>75%</th>\n",
              "      <td>1.074344e+08</td>\n",
              "      <td>40.763115</td>\n",
              "      <td>-73.936275</td>\n",
              "      <td>175.00000</td>\n",
              "      <td>5.000000</td>\n",
              "      <td>24.000000</td>\n",
              "      <td>1.580000</td>\n",
              "      <td>2.000000</td>\n",
              "      <td>227.000000</td>\n",
              "    </tr>\n",
              "    <tr>\n",
              "      <th>max</th>\n",
              "      <td>2.743213e+08</td>\n",
              "      <td>40.913060</td>\n",
              "      <td>-73.712990</td>\n",
              "      <td>10000.00000</td>\n",
              "      <td>1250.000000</td>\n",
              "      <td>629.000000</td>\n",
              "      <td>58.500000</td>\n",
              "      <td>327.000000</td>\n",
              "      <td>365.000000</td>\n",
              "    </tr>\n",
              "  </tbody>\n",
              "</table>\n",
              "</div>"
            ],
            "text/plain": [
              "            host_id  ...  availability_365\n",
              "count  4.889500e+04  ...      48895.000000\n",
              "mean   6.762001e+07  ...        112.781327\n",
              "std    7.861097e+07  ...        131.622289\n",
              "min    2.438000e+03  ...          0.000000\n",
              "25%    7.822033e+06  ...          0.000000\n",
              "50%    3.079382e+07  ...         45.000000\n",
              "75%    1.074344e+08  ...        227.000000\n",
              "max    2.743213e+08  ...        365.000000\n",
              "\n",
              "[8 rows x 9 columns]"
            ]
          },
          "execution_count": 16,
          "metadata": {},
          "output_type": "execute_result"
        }
      ]
    },
    {
      "cell_type": "markdown",
      "metadata": {
        "id": "UfG7fMer9T-i"
      },
      "source": [
        "## **Find the outliers of price column**"
      ]
    },
    {
      "cell_type": "markdown",
      "metadata": {
        "id": "wy6PJUggGl8k"
      },
      "source": [
        "**We need to use groupby and box plot method**"
      ]
    },
    {
      "cell_type": "code",
      "metadata": {
        "colab": {
          "base_uri": "https://localhost:8080/",
          "height": 235
        },
        "id": "ser-nf8OzzFn",
        "outputId": "e6f67105-3b27-45b9-b6fa-09cde6f75998"
      },
      "source": [
        "df.groupby(['neighbourhood_group','room_type'])['price'].mean().unstack() #unstack converts the stack data into unstacked format and present it in DF form"
      ],
      "execution_count": null,
      "outputs": [
        {
          "data": {
            "text/html": [
              "<div>\n",
              "<style scoped>\n",
              "    .dataframe tbody tr th:only-of-type {\n",
              "        vertical-align: middle;\n",
              "    }\n",
              "\n",
              "    .dataframe tbody tr th {\n",
              "        vertical-align: top;\n",
              "    }\n",
              "\n",
              "    .dataframe thead th {\n",
              "        text-align: right;\n",
              "    }\n",
              "</style>\n",
              "<table border=\"1\" class=\"dataframe\">\n",
              "  <thead>\n",
              "    <tr style=\"text-align: right;\">\n",
              "      <th>room_type</th>\n",
              "      <th>Entire home/apt</th>\n",
              "      <th>Private room</th>\n",
              "      <th>Shared room</th>\n",
              "    </tr>\n",
              "    <tr>\n",
              "      <th>neighbourhood_group</th>\n",
              "      <th></th>\n",
              "      <th></th>\n",
              "      <th></th>\n",
              "    </tr>\n",
              "  </thead>\n",
              "  <tbody>\n",
              "    <tr>\n",
              "      <th>Bronx</th>\n",
              "      <td>127.506596</td>\n",
              "      <td>66.890937</td>\n",
              "      <td>59.800000</td>\n",
              "    </tr>\n",
              "    <tr>\n",
              "      <th>Brooklyn</th>\n",
              "      <td>178.346202</td>\n",
              "      <td>76.545428</td>\n",
              "      <td>50.773723</td>\n",
              "    </tr>\n",
              "    <tr>\n",
              "      <th>Manhattan</th>\n",
              "      <td>249.257994</td>\n",
              "      <td>116.776622</td>\n",
              "      <td>88.977083</td>\n",
              "    </tr>\n",
              "    <tr>\n",
              "      <th>Queens</th>\n",
              "      <td>147.050573</td>\n",
              "      <td>71.762456</td>\n",
              "      <td>69.020202</td>\n",
              "    </tr>\n",
              "    <tr>\n",
              "      <th>Staten Island</th>\n",
              "      <td>173.846591</td>\n",
              "      <td>62.292553</td>\n",
              "      <td>57.444444</td>\n",
              "    </tr>\n",
              "  </tbody>\n",
              "</table>\n",
              "</div>"
            ],
            "text/plain": [
              "room_type            Entire home/apt  Private room  Shared room\n",
              "neighbourhood_group                                            \n",
              "Bronx                     127.506596     66.890937    59.800000\n",
              "Brooklyn                  178.346202     76.545428    50.773723\n",
              "Manhattan                 249.257994    116.776622    88.977083\n",
              "Queens                    147.050573     71.762456    69.020202\n",
              "Staten Island             173.846591     62.292553    57.444444"
            ]
          },
          "execution_count": 17,
          "metadata": {},
          "output_type": "execute_result"
        }
      ]
    },
    {
      "cell_type": "code",
      "metadata": {
        "colab": {
          "base_uri": "https://localhost:8080/",
          "height": 325
        },
        "id": "VPsZYjAt0KsB",
        "outputId": "81bd6c42-7fd1-4fb1-e7c4-2533ad217676"
      },
      "source": [
        "df.groupby(['neighbourhood_group','room_type'])['price'].mean().unstack().plot(kind='box')\n",
        "plt.title(\"Room price distribution by neighbourhood groups\", fontsize=20)\n",
        "plt.xlabel(\"Room types\", fontsize =15)\n",
        "plt.ylabel(\"Average room price\", fontsize =15)"
      ],
      "execution_count": null,
      "outputs": [
        {
          "data": {
            "text/plain": [
              "Text(0, 0.5, 'Average room price')"
            ]
          },
          "execution_count": 18,
          "metadata": {},
          "output_type": "execute_result"
        },
        {
          "data": {
            "image/png": "[encoded data removed]",
            "text/plain": [
              "<Figure size 432x288 with 1 Axes>"
            ]
          },
          "metadata": {},
          "output_type": "display_data"
        }
      ]
    },
    {
      "cell_type": "markdown",
      "metadata": {
        "id": "tdTpXJRX_mTb"
      },
      "source": [
        "**Finding outliers values and its count**"
      ]
    },
    {
      "cell_type": "code",
      "metadata": {
        "id": "aJUxzwhh1go0"
      },
      "source": [
        "Q1 =  df['price'].quantile(0.25) #25%\n",
        "Q3 = df['price'].quantile(0.75) # 75%\n",
        "IQR = Q3 - Q1\n"
      ],
      "execution_count": null,
      "outputs": []
    },
    {
      "cell_type": "code",
      "metadata": {
        "colab": {
          "base_uri": "https://localhost:8080/"
        },
        "id": "fSycSoLI8_mZ",
        "outputId": "9c26d02a-701b-4693-e843-89c428a61615"
      },
      "source": [
        "df[(df['price'] < Q1-1.5*IQR ) | (df['price'] > Q3+1.5*IQR)]['price']"
      ],
      "execution_count": null,
      "outputs": [
        {
          "data": {
            "text/plain": [
              "61       375.0\n",
              "85       800.0\n",
              "103      500.0\n",
              "114      350.0\n",
              "121      400.0\n",
              "         ...  \n",
              "48758    350.0\n",
              "48833    475.0\n",
              "48839    800.0\n",
              "48842    350.0\n",
              "48856    345.0\n",
              "Name: price, Length: 2972, dtype: float64"
            ]
          },
          "execution_count": 20,
          "metadata": {},
          "output_type": "execute_result"
        }
      ]
    },
    {
      "cell_type": "code",
      "metadata": {
        "colab": {
          "base_uri": "https://localhost:8080/"
        },
        "id": "Cq0b0k5m4y9W",
        "outputId": "19e9ac47-f1c4-4965-8d7b-9718a59a3e08"
      },
      "source": [
        "df[(df['price'] < Q1-1.5*IQR ) | (df['price'] > Q3+1.5*IQR)]['price'].count()"
      ],
      "execution_count": null,
      "outputs": [
        {
          "data": {
            "text/plain": [
              "2972"
            ]
          },
          "execution_count": 21,
          "metadata": {},
          "output_type": "execute_result"
        }
      ]
    },
    {
      "cell_type": "markdown",
      "metadata": {
        "id": "vhQBSWmJAEFV"
      },
      "source": [
        "**To remove outliers from our data set** "
      ]
    },
    {
      "cell_type": "code",
      "metadata": {
        "id": "cf_GFNue48jZ"
      },
      "source": [
        "outliers = (df['price'] >= Q1 - 1.5 * IQR) & (df['price'] <= Q3 + 1.5 *IQR)\n",
        "df= df.loc[outliers]  "
      ],
      "execution_count": null,
      "outputs": []
    },
    {
      "cell_type": "code",
      "metadata": {
        "colab": {
          "base_uri": "https://localhost:8080/"
        },
        "id": "F7ZaDMtt7U4t",
        "outputId": "c6361f95-2f6b-40ff-dd31-6ab3f5314d14"
      },
      "source": [
        "df.shape"
      ],
      "execution_count": null,
      "outputs": [
        {
          "data": {
            "text/plain": [
              "(45923, 15)"
            ]
          },
          "execution_count": 23,
          "metadata": {},
          "output_type": "execute_result"
        }
      ]
    },
    {
      "cell_type": "markdown",
      "metadata": {
        "id": "eqCS2Jcnvflc"
      },
      "source": [
        "# **Do basic inspection of your DataFrame**"
      ]
    },
    {
      "cell_type": "code",
      "metadata": {
        "colab": {
          "base_uri": "https://localhost:8080/"
        },
        "id": "I4LKml74wK-z",
        "outputId": "95e5d683-cd4d-479c-d30c-29126041e6ba"
      },
      "source": [
        "df.shape"
      ],
      "execution_count": null,
      "outputs": [
        {
          "data": {
            "text/plain": [
              "(45923, 15)"
            ]
          },
          "execution_count": 24,
          "metadata": {},
          "output_type": "execute_result"
        }
      ]
    },
    {
      "cell_type": "code",
      "metadata": {
        "colab": {
          "base_uri": "https://localhost:8080/"
        },
        "id": "qAprEMILxQAh",
        "outputId": "7e8a242e-ac9b-4a55-e172-9501381c8863"
      },
      "source": [
        "df.info() "
      ],
      "execution_count": null,
      "outputs": [
        {
          "name": "stdout",
          "output_type": "stream",
          "text": [
            "<class 'pandas.core.frame.DataFrame'>\n",
            "Int64Index: 45923 entries, 0 to 48894\n",
            "Data columns (total 15 columns):\n",
            " #   Column                          Non-Null Count  Dtype  \n",
            "---  ------                          --------------  -----  \n",
            " 0   name                            45923 non-null  object \n",
            " 1   host_id                         45923 non-null  int64  \n",
            " 2   host_name                       45923 non-null  object \n",
            " 3   neighbourhood_group             45923 non-null  object \n",
            " 4   neighbourhood                   45923 non-null  object \n",
            " 5   latitude                        45923 non-null  float64\n",
            " 6   longitude                       45923 non-null  float64\n",
            " 7   room_type                       45923 non-null  object \n",
            " 8   price                           45923 non-null  float64\n",
            " 9   minimum_nights                  45923 non-null  int64  \n",
            " 10  number_of_reviews               45923 non-null  int64  \n",
            " 11  last_review                     45923 non-null  object \n",
            " 12  reviews_per_month               45923 non-null  float64\n",
            " 13  calculated_host_listings_count  45923 non-null  int64  \n",
            " 14  availability_365                45923 non-null  int64  \n",
            "dtypes: float64(4), int64(5), object(6)\n",
            "memory usage: 5.6+ MB\n"
          ]
        }
      ]
    },
    {
      "cell_type": "code",
      "metadata": {
        "colab": {
          "base_uri": "https://localhost:8080/"
        },
        "id": "1EOTSx_rv-DD",
        "outputId": "52ec3e0c-2dde-44fe-d3c9-f1242b00a11d"
      },
      "source": [
        "df.head()"
      ],
      "execution_count": null,
      "outputs": [
        {
          "data": {
            "text/html": [
              "<div>\n",
              "<style scoped>\n",
              "    .dataframe tbody tr th:only-of-type {\n",
              "        vertical-align: middle;\n",
              "    }\n",
              "\n",
              "    .dataframe tbody tr th {\n",
              "        vertical-align: top;\n",
              "    }\n",
              "\n",
              "    .dataframe thead th {\n",
              "        text-align: right;\n",
              "    }\n",
              "</style>\n",
              "<table border=\"1\" class=\"dataframe\">\n",
              "  <thead>\n",
              "    <tr style=\"text-align: right;\">\n",
              "      <th></th>\n",
              "      <th>name</th>\n",
              "      <th>host_id</th>\n",
              "      <th>host_name</th>\n",
              "      <th>neighbourhood_group</th>\n",
              "      <th>neighbourhood</th>\n",
              "      <th>latitude</th>\n",
              "      <th>longitude</th>\n",
              "      <th>room_type</th>\n",
              "      <th>price</th>\n",
              "      <th>minimum_nights</th>\n",
              "      <th>number_of_reviews</th>\n",
              "      <th>last_review</th>\n",
              "      <th>reviews_per_month</th>\n",
              "      <th>calculated_host_listings_count</th>\n",
              "      <th>availability_365</th>\n",
              "    </tr>\n",
              "  </thead>\n",
              "  <tbody>\n",
              "    <tr>\n",
              "      <th>0</th>\n",
              "      <td>Clean &amp; quiet apt home by the park</td>\n",
              "      <td>2787</td>\n",
              "      <td>John</td>\n",
              "      <td>Brooklyn</td>\n",
              "      <td>Kensington</td>\n",
              "      <td>40.64749</td>\n",
              "      <td>-73.97237</td>\n",
              "      <td>Private room</td>\n",
              "      <td>149.0</td>\n",
              "      <td>1</td>\n",
              "      <td>9</td>\n",
              "      <td>2018-10-19</td>\n",
              "      <td>0.21</td>\n",
              "      <td>6</td>\n",
              "      <td>365</td>\n",
              "    </tr>\n",
              "    <tr>\n",
              "      <th>1</th>\n",
              "      <td>Skylit Midtown Castle</td>\n",
              "      <td>2845</td>\n",
              "      <td>Jennifer</td>\n",
              "      <td>Manhattan</td>\n",
              "      <td>Midtown</td>\n",
              "      <td>40.75362</td>\n",
              "      <td>-73.98377</td>\n",
              "      <td>Entire home/apt</td>\n",
              "      <td>225.0</td>\n",
              "      <td>1</td>\n",
              "      <td>45</td>\n",
              "      <td>2019-05-21</td>\n",
              "      <td>0.38</td>\n",
              "      <td>2</td>\n",
              "      <td>355</td>\n",
              "    </tr>\n",
              "    <tr>\n",
              "      <th>2</th>\n",
              "      <td>THE VILLAGE OF HARLEM....NEW YORK !</td>\n",
              "      <td>4632</td>\n",
              "      <td>Elisabeth</td>\n",
              "      <td>Manhattan</td>\n",
              "      <td>Harlem</td>\n",
              "      <td>40.80902</td>\n",
              "      <td>-73.94190</td>\n",
              "      <td>Private room</td>\n",
              "      <td>150.0</td>\n",
              "      <td>3</td>\n",
              "      <td>0</td>\n",
              "      <td>0</td>\n",
              "      <td>0.00</td>\n",
              "      <td>1</td>\n",
              "      <td>365</td>\n",
              "    </tr>\n",
              "    <tr>\n",
              "      <th>3</th>\n",
              "      <td>Cozy Entire Floor of Brownstone</td>\n",
              "      <td>4869</td>\n",
              "      <td>LisaRoxanne</td>\n",
              "      <td>Brooklyn</td>\n",
              "      <td>Clinton Hill</td>\n",
              "      <td>40.68514</td>\n",
              "      <td>-73.95976</td>\n",
              "      <td>Entire home/apt</td>\n",
              "      <td>89.0</td>\n",
              "      <td>1</td>\n",
              "      <td>270</td>\n",
              "      <td>2019-07-05</td>\n",
              "      <td>4.64</td>\n",
              "      <td>1</td>\n",
              "      <td>194</td>\n",
              "    </tr>\n",
              "    <tr>\n",
              "      <th>4</th>\n",
              "      <td>Entire Apt: Spacious Studio/Loft by central park</td>\n",
              "      <td>7192</td>\n",
              "      <td>Laura</td>\n",
              "      <td>Manhattan</td>\n",
              "      <td>East Harlem</td>\n",
              "      <td>40.79851</td>\n",
              "      <td>-73.94399</td>\n",
              "      <td>Entire home/apt</td>\n",
              "      <td>80.0</td>\n",
              "      <td>10</td>\n",
              "      <td>9</td>\n",
              "      <td>2018-11-19</td>\n",
              "      <td>0.10</td>\n",
              "      <td>1</td>\n",
              "      <td>0</td>\n",
              "    </tr>\n",
              "  </tbody>\n",
              "</table>\n",
              "</div>"
            ],
            "text/plain": [
              "                                               name  ...  availability_365\n",
              "0                Clean & quiet apt home by the park  ...               365\n",
              "1                             Skylit Midtown Castle  ...               355\n",
              "2               THE VILLAGE OF HARLEM....NEW YORK !  ...               365\n",
              "3                   Cozy Entire Floor of Brownstone  ...               194\n",
              "4  Entire Apt: Spacious Studio/Loft by central park  ...                 0\n",
              "\n",
              "[5 rows x 15 columns]"
            ]
          },
          "execution_count": 26,
          "metadata": {},
          "output_type": "execute_result"
        }
      ]
    },
    {
      "cell_type": "code",
      "metadata": {
        "colab": {
          "base_uri": "https://localhost:8080/"
        },
        "id": "cu_Zaj1dwC3_",
        "outputId": "302fa972-4dc1-41e5-9cd1-1b1498a39829"
      },
      "source": [
        "df.tail()"
      ],
      "execution_count": null,
      "outputs": [
        {
          "data": {
            "text/html": [
              "<div>\n",
              "<style scoped>\n",
              "    .dataframe tbody tr th:only-of-type {\n",
              "        vertical-align: middle;\n",
              "    }\n",
              "\n",
              "    .dataframe tbody tr th {\n",
              "        vertical-align: top;\n",
              "    }\n",
              "\n",
              "    .dataframe thead th {\n",
              "        text-align: right;\n",
              "    }\n",
              "</style>\n",
              "<table border=\"1\" class=\"dataframe\">\n",
              "  <thead>\n",
              "    <tr style=\"text-align: right;\">\n",
              "      <th></th>\n",
              "      <th>name</th>\n",
              "      <th>host_id</th>\n",
              "      <th>host_name</th>\n",
              "      <th>neighbourhood_group</th>\n",
              "      <th>neighbourhood</th>\n",
              "      <th>latitude</th>\n",
              "      <th>longitude</th>\n",
              "      <th>room_type</th>\n",
              "      <th>price</th>\n",
              "      <th>minimum_nights</th>\n",
              "      <th>number_of_reviews</th>\n",
              "      <th>last_review</th>\n",
              "      <th>reviews_per_month</th>\n",
              "      <th>calculated_host_listings_count</th>\n",
              "      <th>availability_365</th>\n",
              "    </tr>\n",
              "  </thead>\n",
              "  <tbody>\n",
              "    <tr>\n",
              "      <th>48890</th>\n",
              "      <td>Charming one bedroom - newly renovated rowhouse</td>\n",
              "      <td>8232441</td>\n",
              "      <td>Sabrina</td>\n",
              "      <td>Brooklyn</td>\n",
              "      <td>Bedford-Stuyvesant</td>\n",
              "      <td>40.67853</td>\n",
              "      <td>-73.94995</td>\n",
              "      <td>Private room</td>\n",
              "      <td>70.0</td>\n",
              "      <td>2</td>\n",
              "      <td>0</td>\n",
              "      <td>0</td>\n",
              "      <td>0.0</td>\n",
              "      <td>2</td>\n",
              "      <td>9</td>\n",
              "    </tr>\n",
              "    <tr>\n",
              "      <th>48891</th>\n",
              "      <td>Affordable room in Bushwick/East Williamsburg</td>\n",
              "      <td>6570630</td>\n",
              "      <td>Marisol</td>\n",
              "      <td>Brooklyn</td>\n",
              "      <td>Bushwick</td>\n",
              "      <td>40.70184</td>\n",
              "      <td>-73.93317</td>\n",
              "      <td>Private room</td>\n",
              "      <td>40.0</td>\n",
              "      <td>4</td>\n",
              "      <td>0</td>\n",
              "      <td>0</td>\n",
              "      <td>0.0</td>\n",
              "      <td>2</td>\n",
              "      <td>36</td>\n",
              "    </tr>\n",
              "    <tr>\n",
              "      <th>48892</th>\n",
              "      <td>Sunny Studio at Historical Neighborhood</td>\n",
              "      <td>23492952</td>\n",
              "      <td>Ilgar &amp; Aysel</td>\n",
              "      <td>Manhattan</td>\n",
              "      <td>Harlem</td>\n",
              "      <td>40.81475</td>\n",
              "      <td>-73.94867</td>\n",
              "      <td>Entire home/apt</td>\n",
              "      <td>115.0</td>\n",
              "      <td>10</td>\n",
              "      <td>0</td>\n",
              "      <td>0</td>\n",
              "      <td>0.0</td>\n",
              "      <td>1</td>\n",
              "      <td>27</td>\n",
              "    </tr>\n",
              "    <tr>\n",
              "      <th>48893</th>\n",
              "      <td>43rd St. Time Square-cozy single bed</td>\n",
              "      <td>30985759</td>\n",
              "      <td>Taz</td>\n",
              "      <td>Manhattan</td>\n",
              "      <td>Hell's Kitchen</td>\n",
              "      <td>40.75751</td>\n",
              "      <td>-73.99112</td>\n",
              "      <td>Shared room</td>\n",
              "      <td>55.0</td>\n",
              "      <td>1</td>\n",
              "      <td>0</td>\n",
              "      <td>0</td>\n",
              "      <td>0.0</td>\n",
              "      <td>6</td>\n",
              "      <td>2</td>\n",
              "    </tr>\n",
              "    <tr>\n",
              "      <th>48894</th>\n",
              "      <td>Trendy duplex in the very heart of Hell's Kitchen</td>\n",
              "      <td>68119814</td>\n",
              "      <td>Christophe</td>\n",
              "      <td>Manhattan</td>\n",
              "      <td>Hell's Kitchen</td>\n",
              "      <td>40.76404</td>\n",
              "      <td>-73.98933</td>\n",
              "      <td>Private room</td>\n",
              "      <td>90.0</td>\n",
              "      <td>7</td>\n",
              "      <td>0</td>\n",
              "      <td>0</td>\n",
              "      <td>0.0</td>\n",
              "      <td>1</td>\n",
              "      <td>23</td>\n",
              "    </tr>\n",
              "  </tbody>\n",
              "</table>\n",
              "</div>"
            ],
            "text/plain": [
              "                                                    name  ...  availability_365\n",
              "48890    Charming one bedroom - newly renovated rowhouse  ...                 9\n",
              "48891      Affordable room in Bushwick/East Williamsburg  ...                36\n",
              "48892            Sunny Studio at Historical Neighborhood  ...                27\n",
              "48893               43rd St. Time Square-cozy single bed  ...                 2\n",
              "48894  Trendy duplex in the very heart of Hell's Kitchen  ...                23\n",
              "\n",
              "[5 rows x 15 columns]"
            ]
          },
          "execution_count": 27,
          "metadata": {},
          "output_type": "execute_result"
        }
      ]
    },
    {
      "cell_type": "code",
      "metadata": {
        "colab": {
          "base_uri": "https://localhost:8080/"
        },
        "id": "Sn2eI4BlwGoW",
        "outputId": "9e9c9e06-3a53-4dff-fc5d-7484880c2b4b"
      },
      "source": [
        "df.columns"
      ],
      "execution_count": null,
      "outputs": [
        {
          "data": {
            "text/plain": [
              "Index(['name', 'host_id', 'host_name', 'neighbourhood_group', 'neighbourhood',\n",
              "       'latitude', 'longitude', 'room_type', 'price', 'minimum_nights',\n",
              "       'number_of_reviews', 'last_review', 'reviews_per_month',\n",
              "       'calculated_host_listings_count', 'availability_365'],\n",
              "      dtype='object')"
            ]
          },
          "execution_count": 28,
          "metadata": {},
          "output_type": "execute_result"
        }
      ]
    },
    {
      "cell_type": "code",
      "metadata": {
        "colab": {
          "base_uri": "https://localhost:8080/"
        },
        "id": "00ELCf_uwcl6",
        "outputId": "974c57ef-812a-4a07-97c1-e0cf65ac0141"
      },
      "source": [
        "df.describe()"
      ],
      "execution_count": null,
      "outputs": [
        {
          "data": {
            "text/html": [
              "<div>\n",
              "<style scoped>\n",
              "    .dataframe tbody tr th:only-of-type {\n",
              "        vertical-align: middle;\n",
              "    }\n",
              "\n",
              "    .dataframe tbody tr th {\n",
              "        vertical-align: top;\n",
              "    }\n",
              "\n",
              "    .dataframe thead th {\n",
              "        text-align: right;\n",
              "    }\n",
              "</style>\n",
              "<table border=\"1\" class=\"dataframe\">\n",
              "  <thead>\n",
              "    <tr style=\"text-align: right;\">\n",
              "      <th></th>\n",
              "      <th>host_id</th>\n",
              "      <th>latitude</th>\n",
              "      <th>longitude</th>\n",
              "      <th>price</th>\n",
              "      <th>minimum_nights</th>\n",
              "      <th>number_of_reviews</th>\n",
              "      <th>reviews_per_month</th>\n",
              "      <th>calculated_host_listings_count</th>\n",
              "      <th>availability_365</th>\n",
              "    </tr>\n",
              "  </thead>\n",
              "  <tbody>\n",
              "    <tr>\n",
              "      <th>count</th>\n",
              "      <td>4.592300e+04</td>\n",
              "      <td>45923.000000</td>\n",
              "      <td>45923.000000</td>\n",
              "      <td>45923.00000</td>\n",
              "      <td>45923.000000</td>\n",
              "      <td>45923.000000</td>\n",
              "      <td>45923.000000</td>\n",
              "      <td>45923.000000</td>\n",
              "      <td>45923.000000</td>\n",
              "    </tr>\n",
              "    <tr>\n",
              "      <th>mean</th>\n",
              "      <td>6.632693e+07</td>\n",
              "      <td>40.728488</td>\n",
              "      <td>-73.950733</td>\n",
              "      <td>119.99330</td>\n",
              "      <td>6.938070</td>\n",
              "      <td>23.942665</td>\n",
              "      <td>1.107739</td>\n",
              "      <td>6.639701</td>\n",
              "      <td>109.378699</td>\n",
              "    </tr>\n",
              "    <tr>\n",
              "      <th>std</th>\n",
              "      <td>7.755778e+07</td>\n",
              "      <td>0.055331</td>\n",
              "      <td>0.046471</td>\n",
              "      <td>68.13185</td>\n",
              "      <td>19.857823</td>\n",
              "      <td>45.315219</td>\n",
              "      <td>1.612657</td>\n",
              "      <td>31.008148</td>\n",
              "      <td>130.279393</td>\n",
              "    </tr>\n",
              "    <tr>\n",
              "      <th>min</th>\n",
              "      <td>2.438000e+03</td>\n",
              "      <td>40.499790</td>\n",
              "      <td>-74.244420</td>\n",
              "      <td>10.00000</td>\n",
              "      <td>1.000000</td>\n",
              "      <td>0.000000</td>\n",
              "      <td>0.000000</td>\n",
              "      <td>1.000000</td>\n",
              "      <td>0.000000</td>\n",
              "    </tr>\n",
              "    <tr>\n",
              "      <th>25%</th>\n",
              "      <td>7.724081e+06</td>\n",
              "      <td>40.689235</td>\n",
              "      <td>-73.981925</td>\n",
              "      <td>65.00000</td>\n",
              "      <td>1.000000</td>\n",
              "      <td>1.000000</td>\n",
              "      <td>0.050000</td>\n",
              "      <td>1.000000</td>\n",
              "      <td>0.000000</td>\n",
              "    </tr>\n",
              "    <tr>\n",
              "      <th>50%</th>\n",
              "      <td>3.028359e+07</td>\n",
              "      <td>40.721770</td>\n",
              "      <td>-73.954370</td>\n",
              "      <td>100.00000</td>\n",
              "      <td>2.000000</td>\n",
              "      <td>5.000000</td>\n",
              "      <td>0.380000</td>\n",
              "      <td>1.000000</td>\n",
              "      <td>39.000000</td>\n",
              "    </tr>\n",
              "    <tr>\n",
              "      <th>75%</th>\n",
              "      <td>1.055068e+08</td>\n",
              "      <td>40.763390</td>\n",
              "      <td>-73.934315</td>\n",
              "      <td>159.00000</td>\n",
              "      <td>5.000000</td>\n",
              "      <td>24.000000</td>\n",
              "      <td>1.620000</td>\n",
              "      <td>2.000000</td>\n",
              "      <td>217.000000</td>\n",
              "    </tr>\n",
              "    <tr>\n",
              "      <th>max</th>\n",
              "      <td>2.743213e+08</td>\n",
              "      <td>40.913060</td>\n",
              "      <td>-73.712990</td>\n",
              "      <td>334.00000</td>\n",
              "      <td>1250.000000</td>\n",
              "      <td>629.000000</td>\n",
              "      <td>58.500000</td>\n",
              "      <td>327.000000</td>\n",
              "      <td>365.000000</td>\n",
              "    </tr>\n",
              "  </tbody>\n",
              "</table>\n",
              "</div>"
            ],
            "text/plain": [
              "            host_id  ...  availability_365\n",
              "count  4.592300e+04  ...      45923.000000\n",
              "mean   6.632693e+07  ...        109.378699\n",
              "std    7.755778e+07  ...        130.279393\n",
              "min    2.438000e+03  ...          0.000000\n",
              "25%    7.724081e+06  ...          0.000000\n",
              "50%    3.028359e+07  ...         39.000000\n",
              "75%    1.055068e+08  ...        217.000000\n",
              "max    2.743213e+08  ...        365.000000\n",
              "\n",
              "[8 rows x 9 columns]"
            ]
          },
          "execution_count": 29,
          "metadata": {},
          "output_type": "execute_result"
        }
      ]
    },
    {
      "cell_type": "markdown",
      "metadata": {
        "id": "r6DfUHRXDc9F"
      },
      "source": [
        "# **EDA and Visualization Analysis**"
      ]
    },
    {
      "cell_type": "markdown",
      "metadata": {
        "id": "9ZMAeU0J_onJ"
      },
      "source": [
        "# **Count of  Airbnb properties in different neighbourhood_groups** "
      ]
    },
    {
      "cell_type": "code",
      "metadata": {
        "colab": {
          "base_uri": "https://localhost:8080/"
        },
        "id": "wruezmfT-pSx",
        "outputId": "abdd4161-a2b9-41ca-dd6c-188211e193fe"
      },
      "source": [
        "neigh_count_df= df.groupby(['neighbourhood_group'])['name'].count().reset_index().sort_values('name',ascending=False)\n",
        "airbnb_neigh_count_df= neigh_count_df.rename(columns={'name':'counts'})\n",
        "#airbnb_neigh_count_df\n",
        "df5=df.groupby(['neighbourhood_group'])['name'].count()\n",
        "airbnb_neigh_count_df"
      ],
      "execution_count": null,
      "outputs": [
        {
          "data": {
            "text/html": [
              "<div>\n",
              "<style scoped>\n",
              "    .dataframe tbody tr th:only-of-type {\n",
              "        vertical-align: middle;\n",
              "    }\n",
              "\n",
              "    .dataframe tbody tr th {\n",
              "        vertical-align: top;\n",
              "    }\n",
              "\n",
              "    .dataframe thead th {\n",
              "        text-align: right;\n",
              "    }\n",
              "</style>\n",
              "<table border=\"1\" class=\"dataframe\">\n",
              "  <thead>\n",
              "    <tr style=\"text-align: right;\">\n",
              "      <th></th>\n",
              "      <th>neighbourhood_group</th>\n",
              "      <th>counts</th>\n",
              "    </tr>\n",
              "  </thead>\n",
              "  <tbody>\n",
              "    <tr>\n",
              "      <th>2</th>\n",
              "      <td>Manhattan</td>\n",
              "      <td>19506</td>\n",
              "    </tr>\n",
              "    <tr>\n",
              "      <th>1</th>\n",
              "      <td>Brooklyn</td>\n",
              "      <td>19415</td>\n",
              "    </tr>\n",
              "    <tr>\n",
              "      <th>3</th>\n",
              "      <td>Queens</td>\n",
              "      <td>5567</td>\n",
              "    </tr>\n",
              "    <tr>\n",
              "      <th>0</th>\n",
              "      <td>Bronx</td>\n",
              "      <td>1070</td>\n",
              "    </tr>\n",
              "    <tr>\n",
              "      <th>4</th>\n",
              "      <td>Staten Island</td>\n",
              "      <td>365</td>\n",
              "    </tr>\n",
              "  </tbody>\n",
              "</table>\n",
              "</div>"
            ],
            "text/plain": [
              "  neighbourhood_group  counts\n",
              "2           Manhattan   19506\n",
              "1            Brooklyn   19415\n",
              "3              Queens    5567\n",
              "0               Bronx    1070\n",
              "4       Staten Island     365"
            ]
          },
          "execution_count": 30,
          "metadata": {},
          "output_type": "execute_result"
        }
      ]
    },
    {
      "cell_type": "code",
      "metadata": {
        "colab": {
          "base_uri": "https://localhost:8080/"
        },
        "id": "vTS2Ib3gStDe",
        "outputId": "535097cb-daf0-429a-c7b9-905694c65fad"
      },
      "source": [
        "plt.figure(figsize=(12,8))\n",
        "\n",
        "plt.subplot(1,2,1)\n",
        "sns.barplot(x=airbnb_neigh_count_df.neighbourhood_group, y=airbnb_neigh_count_df.counts).set_title('Number of properties in different neighbourhood_group', fontsize=20)\n",
        "#sns.barplot(x=\"neighbourhood_group\", y=\"counts\", data=airbnb_neigh_count_df).set_title(\" Neighbourhood groups count\", fontsize=20)\n",
        "plt.subplot(1,2,2)\n",
        "df5.plot.pie(autopct=\"%.1f%%\")"
      ],
      "execution_count": null,
      "outputs": [
        {
          "data": {
            "text/plain": [
              "<matplotlib.axes._subplots.AxesSubplot at 0x7fd7c4801b50>"
            ]
          },
          "execution_count": 31,
          "metadata": {},
          "output_type": "execute_result"
        },
        {
          "data": {
            "image/png": "[encoded data removed]",
            "text/plain": [
              "<Figure size 864x576 with 2 Axes>"
            ]
          },
          "metadata": {},
          "output_type": "display_data"
        }
      ]
    },
    {
      "cell_type": "markdown",
      "metadata": {
        "id": "Yy0DPq8VRptU"
      },
      "source": [
        "\n",
        "\n",
        "*  Manhattan neighbourhood_group has most number(43.5%) of Airbnb properties\n",
        "*   Staten Island\t neighbourhood_group has least number(1%)of Airbnb properties\n",
        "\n"
      ]
    },
    {
      "cell_type": "markdown",
      "metadata": {
        "id": "Spn-xxiREk5f"
      },
      "source": [
        "# **Counts of room types**\n"
      ]
    },
    {
      "cell_type": "code",
      "metadata": {
        "colab": {
          "base_uri": "https://localhost:8080/"
        },
        "id": "JRz21cDEDI86",
        "outputId": "51b82f90-8319-49db-c126-34318a84b91a"
      },
      "source": [
        "df1= df['room_type'].value_counts().reset_index()\n",
        "rooms_count =df1.rename(columns={'index':\"room_type\",'room_type':'counts'})\n",
        "df5=df.groupby(['room_type'])['name'].count()\n",
        "rooms_count"
      ],
      "execution_count": null,
      "outputs": [
        {
          "data": {
            "text/html": [
              "<div>\n",
              "<style scoped>\n",
              "    .dataframe tbody tr th:only-of-type {\n",
              "        vertical-align: middle;\n",
              "    }\n",
              "\n",
              "    .dataframe tbody tr th {\n",
              "        vertical-align: top;\n",
              "    }\n",
              "\n",
              "    .dataframe thead th {\n",
              "        text-align: right;\n",
              "    }\n",
              "</style>\n",
              "<table border=\"1\" class=\"dataframe\">\n",
              "  <thead>\n",
              "    <tr style=\"text-align: right;\">\n",
              "      <th></th>\n",
              "      <th>room_type</th>\n",
              "      <th>counts</th>\n",
              "    </tr>\n",
              "  </thead>\n",
              "  <tbody>\n",
              "    <tr>\n",
              "      <th>0</th>\n",
              "      <td>Entire home/apt</td>\n",
              "      <td>22789</td>\n",
              "    </tr>\n",
              "    <tr>\n",
              "      <th>1</th>\n",
              "      <td>Private room</td>\n",
              "      <td>21996</td>\n",
              "    </tr>\n",
              "    <tr>\n",
              "      <th>2</th>\n",
              "      <td>Shared room</td>\n",
              "      <td>1138</td>\n",
              "    </tr>\n",
              "  </tbody>\n",
              "</table>\n",
              "</div>"
            ],
            "text/plain": [
              "         room_type  counts\n",
              "0  Entire home/apt   22789\n",
              "1     Private room   21996\n",
              "2      Shared room    1138"
            ]
          },
          "execution_count": 32,
          "metadata": {},
          "output_type": "execute_result"
        }
      ]
    },
    {
      "cell_type": "code",
      "metadata": {
        "colab": {
          "base_uri": "https://localhost:8080/"
        },
        "id": "H2V3RzoPU3MG",
        "outputId": "050c9961-a0ff-4efa-89f4-d227dbf3b1d8"
      },
      "source": [
        "plt.figure(figsize=(12,8))\n",
        "\n",
        "plt.subplot(1,2,1)\n",
        "sns.barplot(x=rooms_count.room_type, y=rooms_count.counts).set_title('Number of properties in different room types', fontsize=20)\n",
        "#sns.barplot(x=\"neighbourhood_group\", y=\"counts\", data=airbnb_neigh_count_df).set_title(\" Neighbourhood groups count\", fontsize=20)\n",
        "plt.subplot(1,2,2)\n",
        "df5.plot.pie(autopct=\"%.1f%%\")"
      ],
      "execution_count": null,
      "outputs": [
        {
          "data": {
            "text/plain": [
              "<matplotlib.axes._subplots.AxesSubplot at 0x7fd7c55a29d0>"
            ]
          },
          "execution_count": 33,
          "metadata": {},
          "output_type": "execute_result"
        },
        {
          "data": {
            "image/png": "[encoded data removed]",
            "text/plain": [
              "<Figure size 864x576 with 2 Axes>"
            ]
          },
          "metadata": {},
          "output_type": "display_data"
        }
      ]
    },
    {
      "cell_type": "markdown",
      "metadata": {
        "id": "NnGO6If3VdWl"
      },
      "source": [
        "*  Entire home/apt, room type has most number(52%) of properties followed by private room type\n",
        "*  Shared room type has least number(2.5%) of properties"
      ]
    },
    {
      "cell_type": "markdown",
      "metadata": {
        "id": "86Yr6OCrQd-9"
      },
      "source": [
        "# **Average price of properties**"
      ]
    },
    {
      "cell_type": "code",
      "metadata": {
        "colab": {
          "base_uri": "https://localhost:8080/",
          "height": 843
        },
        "id": "nEgopy20Qd_D",
        "outputId": "e22b6ed5-954a-47ed-c328-7fd2513953bb"
      },
      "source": [
        "avrg_room_price_df = df.groupby(['room_type'])['price'].mean().reset_index().rename(columns={'price':'avrg_price'})\n",
        "\n",
        "avrg_neigh_df = df.groupby(['neighbourhood_group'])['price'].mean().reset_index().rename(columns={'price':'avrg_price'})\n",
        "\n",
        "avrg_price_df= df.groupby(['neighbourhood_group','room_type'])['price'].mean().reset_index().rename(columns={'price':'avrg_price'})\n",
        "\n",
        "display(avrg_room_price_df),display(avrg_neigh_df),display(avrg_price_df)"
      ],
      "execution_count": null,
      "outputs": [
        {
          "data": {
            "text/html": [
              "<div>\n",
              "<style scoped>\n",
              "    .dataframe tbody tr th:only-of-type {\n",
              "        vertical-align: middle;\n",
              "    }\n",
              "\n",
              "    .dataframe tbody tr th {\n",
              "        vertical-align: top;\n",
              "    }\n",
              "\n",
              "    .dataframe thead th {\n",
              "        text-align: right;\n",
              "    }\n",
              "</style>\n",
              "<table border=\"1\" class=\"dataframe\">\n",
              "  <thead>\n",
              "    <tr style=\"text-align: right;\">\n",
              "      <th></th>\n",
              "      <th>room_type</th>\n",
              "      <th>avrg_price</th>\n",
              "    </tr>\n",
              "  </thead>\n",
              "  <tbody>\n",
              "    <tr>\n",
              "      <th>0</th>\n",
              "      <td>Entire home/apt</td>\n",
              "      <td>162.545860</td>\n",
              "    </tr>\n",
              "    <tr>\n",
              "      <th>1</th>\n",
              "      <td>Private room</td>\n",
              "      <td>79.042424</td>\n",
              "    </tr>\n",
              "    <tr>\n",
              "      <th>2</th>\n",
              "      <td>Shared room</td>\n",
              "      <td>59.382731</td>\n",
              "    </tr>\n",
              "  </tbody>\n",
              "</table>\n",
              "</div>"
            ],
            "text/plain": [
              "         room_type  avrg_price\n",
              "0  Entire home/apt  162.545860\n",
              "1     Private room   79.042424\n",
              "2      Shared room   59.382731"
            ]
          },
          "metadata": {},
          "output_type": "display_data"
        },
        {
          "data": {
            "text/html": [
              "<div>\n",
              "<style scoped>\n",
              "    .dataframe tbody tr th:only-of-type {\n",
              "        vertical-align: middle;\n",
              "    }\n",
              "\n",
              "    .dataframe tbody tr th {\n",
              "        vertical-align: top;\n",
              "    }\n",
              "\n",
              "    .dataframe thead th {\n",
              "        text-align: right;\n",
              "    }\n",
              "</style>\n",
              "<table border=\"1\" class=\"dataframe\">\n",
              "  <thead>\n",
              "    <tr style=\"text-align: right;\">\n",
              "      <th></th>\n",
              "      <th>neighbourhood_group</th>\n",
              "      <th>avrg_price</th>\n",
              "    </tr>\n",
              "  </thead>\n",
              "  <tbody>\n",
              "    <tr>\n",
              "      <th>0</th>\n",
              "      <td>Bronx</td>\n",
              "      <td>77.427935</td>\n",
              "    </tr>\n",
              "    <tr>\n",
              "      <th>1</th>\n",
              "      <td>Brooklyn</td>\n",
              "      <td>105.737686</td>\n",
              "    </tr>\n",
              "    <tr>\n",
              "      <th>2</th>\n",
              "      <td>Manhattan</td>\n",
              "      <td>145.965614</td>\n",
              "    </tr>\n",
              "    <tr>\n",
              "      <th>3</th>\n",
              "      <td>Queens</td>\n",
              "      <td>88.904437</td>\n",
              "    </tr>\n",
              "    <tr>\n",
              "      <th>4</th>\n",
              "      <td>Staten Island</td>\n",
              "      <td>89.235616</td>\n",
              "    </tr>\n",
              "  </tbody>\n",
              "</table>\n",
              "</div>"
            ],
            "text/plain": [
              "  neighbourhood_group  avrg_price\n",
              "0               Bronx   77.427935\n",
              "1            Brooklyn  105.737686\n",
              "2           Manhattan  145.965614\n",
              "3              Queens   88.904437\n",
              "4       Staten Island   89.235616"
            ]
          },
          "metadata": {},
          "output_type": "display_data"
        },
        {
          "data": {
            "text/html": [
              "<div>\n",
              "<style scoped>\n",
              "    .dataframe tbody tr th:only-of-type {\n",
              "        vertical-align: middle;\n",
              "    }\n",
              "\n",
              "    .dataframe tbody tr th {\n",
              "        vertical-align: top;\n",
              "    }\n",
              "\n",
              "    .dataframe thead th {\n",
              "        text-align: right;\n",
              "    }\n",
              "</style>\n",
              "<table border=\"1\" class=\"dataframe\">\n",
              "  <thead>\n",
              "    <tr style=\"text-align: right;\">\n",
              "      <th></th>\n",
              "      <th>neighbourhood_group</th>\n",
              "      <th>room_type</th>\n",
              "      <th>avrg_price</th>\n",
              "    </tr>\n",
              "  </thead>\n",
              "  <tbody>\n",
              "    <tr>\n",
              "      <th>0</th>\n",
              "      <td>Bronx</td>\n",
              "      <td>Entire home/apt</td>\n",
              "      <td>112.195592</td>\n",
              "    </tr>\n",
              "    <tr>\n",
              "      <th>1</th>\n",
              "      <td>Bronx</td>\n",
              "      <td>Private room</td>\n",
              "      <td>60.698906</td>\n",
              "    </tr>\n",
              "    <tr>\n",
              "      <th>2</th>\n",
              "      <td>Bronx</td>\n",
              "      <td>Shared room</td>\n",
              "      <td>47.254237</td>\n",
              "    </tr>\n",
              "    <tr>\n",
              "      <th>3</th>\n",
              "      <td>Brooklyn</td>\n",
              "      <td>Entire home/apt</td>\n",
              "      <td>148.222025</td>\n",
              "    </tr>\n",
              "    <tr>\n",
              "      <th>4</th>\n",
              "      <td>Brooklyn</td>\n",
              "      <td>Private room</td>\n",
              "      <td>70.329087</td>\n",
              "    </tr>\n",
              "    <tr>\n",
              "      <th>5</th>\n",
              "      <td>Brooklyn</td>\n",
              "      <td>Shared room</td>\n",
              "      <td>48.283570</td>\n",
              "    </tr>\n",
              "    <tr>\n",
              "      <th>6</th>\n",
              "      <td>Manhattan</td>\n",
              "      <td>Entire home/apt</td>\n",
              "      <td>181.710666</td>\n",
              "    </tr>\n",
              "    <tr>\n",
              "      <th>7</th>\n",
              "      <td>Manhattan</td>\n",
              "      <td>Private room</td>\n",
              "      <td>98.057700</td>\n",
              "    </tr>\n",
              "    <tr>\n",
              "      <th>8</th>\n",
              "      <td>Manhattan</td>\n",
              "      <td>Shared room</td>\n",
              "      <td>75.939785</td>\n",
              "    </tr>\n",
              "    <tr>\n",
              "      <th>9</th>\n",
              "      <td>Queens</td>\n",
              "      <td>Entire home/apt</td>\n",
              "      <td>131.328388</td>\n",
              "    </tr>\n",
              "    <tr>\n",
              "      <th>10</th>\n",
              "      <td>Queens</td>\n",
              "      <td>Private room</td>\n",
              "      <td>65.732319</td>\n",
              "    </tr>\n",
              "    <tr>\n",
              "      <th>11</th>\n",
              "      <td>Queens</td>\n",
              "      <td>Shared room</td>\n",
              "      <td>46.989691</td>\n",
              "    </tr>\n",
              "    <tr>\n",
              "      <th>12</th>\n",
              "      <td>Staten Island</td>\n",
              "      <td>Entire home/apt</td>\n",
              "      <td>121.089286</td>\n",
              "    </tr>\n",
              "    <tr>\n",
              "      <th>13</th>\n",
              "      <td>Staten Island</td>\n",
              "      <td>Private room</td>\n",
              "      <td>62.292553</td>\n",
              "    </tr>\n",
              "    <tr>\n",
              "      <th>14</th>\n",
              "      <td>Staten Island</td>\n",
              "      <td>Shared room</td>\n",
              "      <td>57.444444</td>\n",
              "    </tr>\n",
              "  </tbody>\n",
              "</table>\n",
              "</div>"
            ],
            "text/plain": [
              "   neighbourhood_group        room_type  avrg_price\n",
              "0                Bronx  Entire home/apt  112.195592\n",
              "1                Bronx     Private room   60.698906\n",
              "2                Bronx      Shared room   47.254237\n",
              "3             Brooklyn  Entire home/apt  148.222025\n",
              "4             Brooklyn     Private room   70.329087\n",
              "5             Brooklyn      Shared room   48.283570\n",
              "6            Manhattan  Entire home/apt  181.710666\n",
              "7            Manhattan     Private room   98.057700\n",
              "8            Manhattan      Shared room   75.939785\n",
              "9               Queens  Entire home/apt  131.328388\n",
              "10              Queens     Private room   65.732319\n",
              "11              Queens      Shared room   46.989691\n",
              "12       Staten Island  Entire home/apt  121.089286\n",
              "13       Staten Island     Private room   62.292553\n",
              "14       Staten Island      Shared room   57.444444"
            ]
          },
          "metadata": {},
          "output_type": "display_data"
        },
        {
          "data": {
            "text/plain": [
              "(None, None, None)"
            ]
          },
          "execution_count": 34,
          "metadata": {},
          "output_type": "execute_result"
        }
      ]
    },
    {
      "cell_type": "code",
      "metadata": {
        "colab": {
          "base_uri": "https://localhost:8080/",
          "height": 392
        },
        "id": "JEIAMLElQd_F",
        "outputId": "ebccbc9e-3c7e-42b0-8c91-ff66ee8c2e37"
      },
      "source": [
        "plt.figure(figsize=(15,5)).suptitle('Average price of the properties', fontsize=20) \n",
        "\n",
        "plt.subplot(1,3,1)\n",
        "sns.barplot(x=\"room_type\", y=\"avrg_price\",data=avrg_room_price_df)\n",
        "\n",
        "plt.subplot(1,3,2)\n",
        "sns.barplot(x=\"neighbourhood_group\", y=\"avrg_price\",data=avrg_neigh_df)\n",
        "\n",
        "plt.subplot(1,3,3)\n",
        "sns.barplot(x=\"neighbourhood_group\", y=\"avrg_price\",hue='room_type',data=avrg_price_df)"
      ],
      "execution_count": null,
      "outputs": [
        {
          "data": {
            "text/plain": [
              "<matplotlib.axes._subplots.AxesSubplot at 0x7fd7c5258ed0>"
            ]
          },
          "execution_count": 35,
          "metadata": {},
          "output_type": "execute_result"
        },
        {
          "data": {
            "image/png": "[encoded data removed]",
            "text/plain": [
              "<Figure size 1080x360 with 3 Axes>"
            ]
          },
          "metadata": {},
          "output_type": "display_data"
        }
      ]
    },
    {
      "cell_type": "markdown",
      "metadata": {
        "id": "bzgitHPUMpoa"
      },
      "source": [
        "\n",
        "*   Entire home or apartment room type has the heighest average room price  followed by private room type\n",
        "*   Manhattan neighbourhood is expensive than the others with average room price of 145$ Bronx neighbourhood is least expensive \n",
        "\n"
      ]
    },
    {
      "cell_type": "code",
      "metadata": {
        "id": "qY9_oGLIeW8P"
      },
      "source": [
        ""
      ],
      "execution_count": null,
      "outputs": []
    },
    {
      "cell_type": "markdown",
      "metadata": {
        "id": "TcebltnWC8rZ"
      },
      "source": [
        "# **Count the number of unique hosts listed on Airbnb**"
      ]
    },
    {
      "cell_type": "markdown",
      "metadata": {
        "id": "zr-VZzxmDlK5"
      },
      "source": [
        " \n",
        "\n",
        "*    Since 2 different host can have the same host_name, so we use host_id.\n",
        "\n",
        "*    host id is unique for induvidual host\n",
        "\n",
        "\n"
      ]
    },
    {
      "cell_type": "code",
      "metadata": {
        "colab": {
          "base_uri": "https://localhost:8080/"
        },
        "id": "yMXXLrluDL4K",
        "outputId": "d0d6e91e-a7e8-4e6b-b084-f1ea89b185b0"
      },
      "source": [
        "unique_host_id =df['host_id'].value_counts().reset_index().rename(columns={'index':'host_id','host_id':'listing_counts'})\n",
        "unique_host_id"
      ],
      "execution_count": null,
      "outputs": [
        {
          "data": {
            "text/html": [
              "<div>\n",
              "<style scoped>\n",
              "    .dataframe tbody tr th:only-of-type {\n",
              "        vertical-align: middle;\n",
              "    }\n",
              "\n",
              "    .dataframe tbody tr th {\n",
              "        vertical-align: top;\n",
              "    }\n",
              "\n",
              "    .dataframe thead th {\n",
              "        text-align: right;\n",
              "    }\n",
              "</style>\n",
              "<table border=\"1\" class=\"dataframe\">\n",
              "  <thead>\n",
              "    <tr style=\"text-align: right;\">\n",
              "      <th></th>\n",
              "      <th>host_id</th>\n",
              "      <th>listing_counts</th>\n",
              "    </tr>\n",
              "  </thead>\n",
              "  <tbody>\n",
              "    <tr>\n",
              "      <th>0</th>\n",
              "      <td>219517861</td>\n",
              "      <td>272</td>\n",
              "    </tr>\n",
              "    <tr>\n",
              "      <th>1</th>\n",
              "      <td>107434423</td>\n",
              "      <td>180</td>\n",
              "    </tr>\n",
              "    <tr>\n",
              "      <th>2</th>\n",
              "      <td>137358866</td>\n",
              "      <td>103</td>\n",
              "    </tr>\n",
              "    <tr>\n",
              "      <th>3</th>\n",
              "      <td>12243051</td>\n",
              "      <td>95</td>\n",
              "    </tr>\n",
              "    <tr>\n",
              "      <th>4</th>\n",
              "      <td>30283594</td>\n",
              "      <td>95</td>\n",
              "    </tr>\n",
              "    <tr>\n",
              "      <th>...</th>\n",
              "      <td>...</td>\n",
              "      <td>...</td>\n",
              "    </tr>\n",
              "    <tr>\n",
              "      <th>35384</th>\n",
              "      <td>95485067</td>\n",
              "      <td>1</td>\n",
              "    </tr>\n",
              "    <tr>\n",
              "      <th>35385</th>\n",
              "      <td>167560332</td>\n",
              "      <td>1</td>\n",
              "    </tr>\n",
              "    <tr>\n",
              "      <th>35386</th>\n",
              "      <td>263742622</td>\n",
              "      <td>1</td>\n",
              "    </tr>\n",
              "    <tr>\n",
              "      <th>35387</th>\n",
              "      <td>205706382</td>\n",
              "      <td>1</td>\n",
              "    </tr>\n",
              "    <tr>\n",
              "      <th>35388</th>\n",
              "      <td>1288080</td>\n",
              "      <td>1</td>\n",
              "    </tr>\n",
              "  </tbody>\n",
              "</table>\n",
              "<p>35389 rows × 2 columns</p>\n",
              "</div>"
            ],
            "text/plain": [
              "         host_id  listing_counts\n",
              "0      219517861             272\n",
              "1      107434423             180\n",
              "2      137358866             103\n",
              "3       12243051              95\n",
              "4       30283594              95\n",
              "...          ...             ...\n",
              "35384   95485067               1\n",
              "35385  167560332               1\n",
              "35386  263742622               1\n",
              "35387  205706382               1\n",
              "35388    1288080               1\n",
              "\n",
              "[35389 rows x 2 columns]"
            ]
          },
          "execution_count": 41,
          "metadata": {},
          "output_type": "execute_result"
        }
      ]
    },
    {
      "cell_type": "markdown",
      "metadata": {
        "id": "rq9xxFj8EnO8"
      },
      "source": [
        "\n",
        "*  This shows the count of listings of particular host id on Airbnb.\n",
        "But we want total number of unique host ids \n",
        "*   We apply lenght function to above dataframe to get total number of unique host ids\n",
        "\n"
      ]
    },
    {
      "cell_type": "code",
      "metadata": {
        "colab": {
          "base_uri": "https://localhost:8080/"
        },
        "id": "L8Se4ND9FvjZ",
        "outputId": "70a9b94d-705b-4aca-bacd-a266dec74bb2"
      },
      "source": [
        "len(unique_host_id)"
      ],
      "execution_count": null,
      "outputs": [
        {
          "data": {
            "text/plain": [
              "35389"
            ]
          },
          "execution_count": 42,
          "metadata": {},
          "output_type": "execute_result"
        }
      ]
    },
    {
      "cell_type": "markdown",
      "metadata": {
        "id": "RlidgVlIGAU7"
      },
      "source": [
        "**Airbnb has 37457 unique host ids or host owner** "
      ]
    },
    {
      "cell_type": "code",
      "metadata": {
        "id": "LQsWoTQffCTU"
      },
      "source": [
        ""
      ],
      "execution_count": null,
      "outputs": []
    },
    {
      "cell_type": "markdown",
      "metadata": {
        "id": "khlm4LECaUby"
      },
      "source": [
        "# **Availability percentage of properties in different neighbourhood_group**"
      ]
    },
    {
      "cell_type": "code",
      "metadata": {
        "id": "zC5VUC7pnRCo",
        "colab": {
          "base_uri": "https://localhost:8080/"
        },
        "outputId": "f27bdc06-9520-4bea-c724-8c2ec719fee0"
      },
      "source": [
        "df25=df.groupby(['neighbourhood_group','room_type']).agg({'availability_365':'sum','room_type':'count'}).rename(columns={'room_type':'property_count'})\n",
        "df25['availabilty_%_365'] = (df25['availability_365']*100)/(df25['property_count']*365)\n",
        "df25\n"
      ],
      "execution_count": null,
      "outputs": [
        {
          "output_type": "execute_result",
          "data": {
            "text/html": [
              "<div>\n",
              "<style scoped>\n",
              "    .dataframe tbody tr th:only-of-type {\n",
              "        vertical-align: middle;\n",
              "    }\n",
              "\n",
              "    .dataframe tbody tr th {\n",
              "        vertical-align: top;\n",
              "    }\n",
              "\n",
              "    .dataframe thead th {\n",
              "        text-align: right;\n",
              "    }\n",
              "</style>\n",
              "<table border=\"1\" class=\"dataframe\">\n",
              "  <thead>\n",
              "    <tr style=\"text-align: right;\">\n",
              "      <th></th>\n",
              "      <th></th>\n",
              "      <th>availability_365</th>\n",
              "      <th>property_count</th>\n",
              "      <th>availabilty_%_365</th>\n",
              "    </tr>\n",
              "    <tr>\n",
              "      <th>neighbourhood_group</th>\n",
              "      <th>room_type</th>\n",
              "      <th></th>\n",
              "      <th></th>\n",
              "      <th></th>\n",
              "    </tr>\n",
              "  </thead>\n",
              "  <tbody>\n",
              "    <tr>\n",
              "      <th rowspan=\"3\" valign=\"top\">Bronx</th>\n",
              "      <th>Entire home/apt</th>\n",
              "      <td>56198</td>\n",
              "      <td>363</td>\n",
              "      <td>42.415185</td>\n",
              "    </tr>\n",
              "    <tr>\n",
              "      <th>Private room</th>\n",
              "      <td>110902</td>\n",
              "      <td>648</td>\n",
              "      <td>46.889058</td>\n",
              "    </tr>\n",
              "    <tr>\n",
              "      <th>Shared room</th>\n",
              "      <td>8984</td>\n",
              "      <td>59</td>\n",
              "      <td>41.718133</td>\n",
              "    </tr>\n",
              "    <tr>\n",
              "      <th rowspan=\"3\" valign=\"top\">Brooklyn</th>\n",
              "      <th>Entire home/apt</th>\n",
              "      <td>836656</td>\n",
              "      <td>8942</td>\n",
              "      <td>25.634178</td>\n",
              "    </tr>\n",
              "    <tr>\n",
              "      <th>Private room</th>\n",
              "      <td>1002581</td>\n",
              "      <td>10062</td>\n",
              "      <td>27.298721</td>\n",
              "    </tr>\n",
              "    <tr>\n",
              "      <th>Shared room</th>\n",
              "      <td>73153</td>\n",
              "      <td>411</td>\n",
              "      <td>48.763790</td>\n",
              "    </tr>\n",
              "    <tr>\n",
              "      <th rowspan=\"3\" valign=\"top\">Manhattan</th>\n",
              "      <th>Entire home/apt</th>\n",
              "      <td>1236258</td>\n",
              "      <td>11294</td>\n",
              "      <td>29.989448</td>\n",
              "    </tr>\n",
              "    <tr>\n",
              "      <th>Private room</th>\n",
              "      <td>763708</td>\n",
              "      <td>7747</td>\n",
              "      <td>27.008528</td>\n",
              "    </tr>\n",
              "    <tr>\n",
              "      <th>Shared room</th>\n",
              "      <td>65410</td>\n",
              "      <td>465</td>\n",
              "      <td>38.538813</td>\n",
              "    </tr>\n",
              "    <tr>\n",
              "      <th rowspan=\"3\" valign=\"top\">Queens</th>\n",
              "      <th>Entire home/apt</th>\n",
              "      <td>259421</td>\n",
              "      <td>2022</td>\n",
              "      <td>35.150468</td>\n",
              "    </tr>\n",
              "    <tr>\n",
              "      <th>Private room</th>\n",
              "      <td>499341</td>\n",
              "      <td>3351</td>\n",
              "      <td>40.825352</td>\n",
              "    </tr>\n",
              "    <tr>\n",
              "      <th>Shared room</th>\n",
              "      <td>37425</td>\n",
              "      <td>194</td>\n",
              "      <td>52.852704</td>\n",
              "    </tr>\n",
              "    <tr>\n",
              "      <th rowspan=\"3\" valign=\"top\">Staten Island</th>\n",
              "      <th>Entire home/apt</th>\n",
              "      <td>29822</td>\n",
              "      <td>168</td>\n",
              "      <td>48.633399</td>\n",
              "    </tr>\n",
              "    <tr>\n",
              "      <th>Private room</th>\n",
              "      <td>42556</td>\n",
              "      <td>188</td>\n",
              "      <td>62.016905</td>\n",
              "    </tr>\n",
              "    <tr>\n",
              "      <th>Shared room</th>\n",
              "      <td>583</td>\n",
              "      <td>9</td>\n",
              "      <td>17.747336</td>\n",
              "    </tr>\n",
              "  </tbody>\n",
              "</table>\n",
              "</div>"
            ],
            "text/plain": [
              "                                     availability_365  ...  availabilty_%_365\n",
              "neighbourhood_group room_type                          ...                   \n",
              "Bronx               Entire home/apt             56198  ...          42.415185\n",
              "                    Private room               110902  ...          46.889058\n",
              "                    Shared room                  8984  ...          41.718133\n",
              "Brooklyn            Entire home/apt            836656  ...          25.634178\n",
              "                    Private room              1002581  ...          27.298721\n",
              "                    Shared room                 73153  ...          48.763790\n",
              "Manhattan           Entire home/apt           1236258  ...          29.989448\n",
              "                    Private room               763708  ...          27.008528\n",
              "                    Shared room                 65410  ...          38.538813\n",
              "Queens              Entire home/apt            259421  ...          35.150468\n",
              "                    Private room               499341  ...          40.825352\n",
              "                    Shared room                 37425  ...          52.852704\n",
              "Staten Island       Entire home/apt             29822  ...          48.633399\n",
              "                    Private room                42556  ...          62.016905\n",
              "                    Shared room                   583  ...          17.747336\n",
              "\n",
              "[15 rows x 3 columns]"
            ]
          },
          "metadata": {},
          "execution_count": 43
        }
      ]
    },
    {
      "cell_type": "code",
      "metadata": {
        "id": "NDbLW5I3dGcQ",
        "colab": {
          "base_uri": "https://localhost:8080/"
        },
        "outputId": "64443a7e-4770-4048-ee16-5fba7555b4d9"
      },
      "source": [
        "df25=df.groupby(['neighbourhood_group']).agg({'availability_365':'sum','room_type':'count'}).rename(columns={'room_type':'property_count'}).reset_index(False)\n",
        "df25['availabilty_%_365'] = (df25['availability_365']*100)/(df25['property_count']*365)\n",
        "df25\n",
        "\n"
      ],
      "execution_count": null,
      "outputs": [
        {
          "output_type": "execute_result",
          "data": {
            "text/html": [
              "<div>\n",
              "<style scoped>\n",
              "    .dataframe tbody tr th:only-of-type {\n",
              "        vertical-align: middle;\n",
              "    }\n",
              "\n",
              "    .dataframe tbody tr th {\n",
              "        vertical-align: top;\n",
              "    }\n",
              "\n",
              "    .dataframe thead th {\n",
              "        text-align: right;\n",
              "    }\n",
              "</style>\n",
              "<table border=\"1\" class=\"dataframe\">\n",
              "  <thead>\n",
              "    <tr style=\"text-align: right;\">\n",
              "      <th></th>\n",
              "      <th>neighbourhood_group</th>\n",
              "      <th>availability_365</th>\n",
              "      <th>property_count</th>\n",
              "      <th>availabilty_%_365</th>\n",
              "    </tr>\n",
              "  </thead>\n",
              "  <tbody>\n",
              "    <tr>\n",
              "      <th>0</th>\n",
              "      <td>Bronx</td>\n",
              "      <td>176084</td>\n",
              "      <td>1070</td>\n",
              "      <td>45.086161</td>\n",
              "    </tr>\n",
              "    <tr>\n",
              "      <th>1</th>\n",
              "      <td>Brooklyn</td>\n",
              "      <td>1912390</td>\n",
              "      <td>19415</td>\n",
              "      <td>26.986478</td>\n",
              "    </tr>\n",
              "    <tr>\n",
              "      <th>2</th>\n",
              "      <td>Manhattan</td>\n",
              "      <td>2065376</td>\n",
              "      <td>19506</td>\n",
              "      <td>29.009353</td>\n",
              "    </tr>\n",
              "    <tr>\n",
              "      <th>3</th>\n",
              "      <td>Queens</td>\n",
              "      <td>796187</td>\n",
              "      <td>5567</td>\n",
              "      <td>39.183299</td>\n",
              "    </tr>\n",
              "    <tr>\n",
              "      <th>4</th>\n",
              "      <td>Staten Island</td>\n",
              "      <td>72961</td>\n",
              "      <td>365</td>\n",
              "      <td>54.765247</td>\n",
              "    </tr>\n",
              "  </tbody>\n",
              "</table>\n",
              "</div>"
            ],
            "text/plain": [
              "  neighbourhood_group  availability_365  property_count  availabilty_%_365\n",
              "0               Bronx            176084            1070          45.086161\n",
              "1            Brooklyn           1912390           19415          26.986478\n",
              "2           Manhattan           2065376           19506          29.009353\n",
              "3              Queens            796187            5567          39.183299\n",
              "4       Staten Island             72961             365          54.765247"
            ]
          },
          "metadata": {},
          "execution_count": 44
        }
      ]
    },
    {
      "cell_type": "code",
      "metadata": {
        "id": "I4EOlca2xHnG",
        "colab": {
          "base_uri": "https://localhost:8080/"
        },
        "outputId": "aeb3e989-0346-4f52-f9f1-06ba69ab5c41"
      },
      "source": [
        "plt.figure(figsize=(18,15))\n",
        "df1=df.groupby(['neighbourhood_group'])['availability_365'].apply(lambda x: (x.sum()*100)/(365*x.count()))\n",
        "df2=df.groupby(['neighbourhood_group','room_type'])['availability_365'].apply(lambda x: (x.sum()*100)/(365*x.count())).reset_index()\n",
        "\n",
        "plt.subplot(1,2,1)\n",
        "sns.barplot(x=df2.neighbourhood_group, y=df2.availability_365, hue=df2.room_type,linewidth=2.5, edgecolor=\".2\"\n",
        "                 ).set(title='Availability percentage of different room_type in different neighbourhood_group')\n",
        "plt.subplot(1,2,2)\n",
        "df1.plot.pie(autopct=\"%.1f%%\").set(title='Percentage availability of neighbourhood groups')"
      ],
      "execution_count": null,
      "outputs": [
        {
          "output_type": "execute_result",
          "data": {
            "text/plain": [
              "[Text(0.5, 1.0, 'Percentage availability of neighbourhood groups')]"
            ]
          },
          "metadata": {},
          "execution_count": 45
        },
        {
          "output_type": "display_data",
          "data": {
            "image/png": "[encoded data removed]",
            "text/plain": [
              "<Figure size 1296x1080 with 2 Axes>"
            ]
          },
          "metadata": {}
        }
      ]
    },
    {
      "cell_type": "markdown",
      "metadata": {
        "id": "K1QIbAQUen24"
      },
      "source": [
        "\n",
        "\n",
        "*   Manhattan(15%)\tand Brooklyn(14%) neighbourhood groups are least available. \n",
        "*  Due to its popularity and the region being  most populated these groups are busiest groups\n",
        "\n",
        "*   If we deep dive in room types Private room and \tEntire home/apt room type are least available for booking  \n",
        "*   Since shared rooms being cheaper its available percentage should be  least but this is not true(excluding Staten Island) beacuse pepople will not only consider price,even they look good facilities\n",
        "\n",
        "*   As everthing is to be shared in shared rooms, due its lack of privacy people tend to look for other room types \n",
        "\n",
        "\n",
        "\n",
        "\n",
        "\n",
        "\n",
        "\n",
        "\n"
      ]
    },
    {
      "cell_type": "code",
      "metadata": {
        "id": "5uAzZUon3O5-"
      },
      "source": [
        ""
      ],
      "execution_count": null,
      "outputs": []
    },
    {
      "cell_type": "markdown",
      "metadata": {
        "id": "pM8-72kWjO6f"
      },
      "source": [
        "# **Top 5 host with maximum over all number of  total reviews** "
      ]
    },
    {
      "cell_type": "code",
      "metadata": {
        "id": "Tx9CC8RPbRqf"
      },
      "source": [
        "df1=df.groupby(['host_id','host_name','neighbourhood_group','room_type']).agg({'number_of_reviews':'sum'}).reset_index().rename(columns={'number_of_reviews':'total_reviews'})"
      ],
      "execution_count": null,
      "outputs": []
    },
    {
      "cell_type": "code",
      "metadata": {
        "id": "_1b8K5kRb8FZ",
        "colab": {
          "base_uri": "https://localhost:8080/"
        },
        "outputId": "c5d47a8e-3fa2-4edd-88f6-99e1c3ce6a8f"
      },
      "source": [
        "df1.sort_values('total_reviews',ascending=False).head(5)"
      ],
      "execution_count": null,
      "outputs": [
        {
          "output_type": "execute_result",
          "data": {
            "text/html": [
              "<div>\n",
              "<style scoped>\n",
              "    .dataframe tbody tr th:only-of-type {\n",
              "        vertical-align: middle;\n",
              "    }\n",
              "\n",
              "    .dataframe tbody tr th {\n",
              "        vertical-align: top;\n",
              "    }\n",
              "\n",
              "    .dataframe thead th {\n",
              "        text-align: right;\n",
              "    }\n",
              "</style>\n",
              "<table border=\"1\" class=\"dataframe\">\n",
              "  <thead>\n",
              "    <tr style=\"text-align: right;\">\n",
              "      <th></th>\n",
              "      <th>host_id</th>\n",
              "      <th>host_name</th>\n",
              "      <th>neighbourhood_group</th>\n",
              "      <th>room_type</th>\n",
              "      <th>total_reviews</th>\n",
              "    </tr>\n",
              "  </thead>\n",
              "  <tbody>\n",
              "    <tr>\n",
              "      <th>21116</th>\n",
              "      <td>37312959</td>\n",
              "      <td>Maya</td>\n",
              "      <td>Queens</td>\n",
              "      <td>Private room</td>\n",
              "      <td>2273</td>\n",
              "    </tr>\n",
              "    <tr>\n",
              "      <th>1077</th>\n",
              "      <td>344035</td>\n",
              "      <td>Brooklyn&amp;   Breakfast    -Len-</td>\n",
              "      <td>Brooklyn</td>\n",
              "      <td>Private room</td>\n",
              "      <td>2205</td>\n",
              "    </tr>\n",
              "    <tr>\n",
              "      <th>20696</th>\n",
              "      <td>35524316</td>\n",
              "      <td>Yasu &amp; Akiko</td>\n",
              "      <td>Manhattan</td>\n",
              "      <td>Private room</td>\n",
              "      <td>1837</td>\n",
              "    </tr>\n",
              "    <tr>\n",
              "      <th>21737</th>\n",
              "      <td>40176101</td>\n",
              "      <td>Brady</td>\n",
              "      <td>Brooklyn</td>\n",
              "      <td>Private room</td>\n",
              "      <td>1818</td>\n",
              "    </tr>\n",
              "    <tr>\n",
              "      <th>7323</th>\n",
              "      <td>4734398</td>\n",
              "      <td>Jj</td>\n",
              "      <td>Manhattan</td>\n",
              "      <td>Private room</td>\n",
              "      <td>1798</td>\n",
              "    </tr>\n",
              "  </tbody>\n",
              "</table>\n",
              "</div>"
            ],
            "text/plain": [
              "        host_id                       host_name  ...     room_type total_reviews\n",
              "21116  37312959                            Maya  ...  Private room          2273\n",
              "1077     344035  Brooklyn&   Breakfast    -Len-  ...  Private room          2205\n",
              "20696  35524316                    Yasu & Akiko  ...  Private room          1837\n",
              "21737  40176101                           Brady  ...  Private room          1818\n",
              "7323    4734398                              Jj  ...  Private room          1798\n",
              "\n",
              "[5 rows x 5 columns]"
            ]
          },
          "metadata": {},
          "execution_count": 47
        }
      ]
    },
    {
      "cell_type": "code",
      "metadata": {
        "id": "Rr3EJ4TKcXIY"
      },
      "source": [
        "df17=df[(df.host_id==37312959)|(df.host_id==344035)|(df.host_id==\t26432133\t)|(df.host_id==35524316\t)|(df.host_id==40176101\t)]"
      ],
      "execution_count": null,
      "outputs": []
    },
    {
      "cell_type": "code",
      "metadata": {
        "id": "vtPTb-jKdZKa",
        "colab": {
          "base_uri": "https://localhost:8080/"
        },
        "outputId": "b9a117ca-a767-4967-fe55-02b19cb90112"
      },
      "source": [
        "df18=df17.groupby(['host_name'])['calculated_host_listings_count'].count().reset_index()\n",
        "df19=df17.groupby(['host_name'])['number_of_reviews'].sum().reset_index()\n",
        "df20=df17.groupby(['host_name'])['availability_365'].median().reset_index()\n",
        "df21=df17.groupby(['host_name'])['price'].mean().reset_index()\n",
        "\n",
        "plt.figure(figsize=(25,8))\n",
        "\n",
        "plt.subplot(2,4,2)\n",
        "sns.barplot(x=df18.host_name, y=df18.calculated_host_listings_count)\n",
        "\n",
        "plt.subplot(2,4,1)\n",
        "sns.barplot(x=df19.host_name, y=df19.number_of_reviews)\n",
        "\n",
        "plt.subplot(2,4,4)\n",
        "sns.barplot(x=df20.host_name, y=df20.availability_365)\n",
        "\n",
        "plt.subplot(2,4,3)\n",
        "sns.barplot(x=df21.host_name, y=df21.price)"
      ],
      "execution_count": null,
      "outputs": [
        {
          "output_type": "execute_result",
          "data": {
            "text/plain": [
              "<matplotlib.axes._subplots.AxesSubplot at 0x7f9c97671110>"
            ]
          },
          "metadata": {},
          "execution_count": 49
        },
        {
          "output_type": "display_data",
          "data": {
            "image/png": "[encoded data removed]",
            "text/plain": [
              "<Figure size 1800x576 with 4 Axes>"
            ]
          },
          "metadata": {}
        }
      ]
    },
    {
      "cell_type": "code",
      "metadata": {
        "id": "bdPP36cBecNf",
        "colab": {
          "base_uri": "https://localhost:8080/"
        },
        "outputId": "73f52168-88a3-49c2-8277-c0e02eac750f"
      },
      "source": [
        "total_num_reviews = df1.sort_values('total_reviews',ascending=False).head(5)\n",
        "total_num_reviews"
      ],
      "execution_count": null,
      "outputs": [
        {
          "output_type": "execute_result",
          "data": {
            "text/html": [
              "<div>\n",
              "<style scoped>\n",
              "    .dataframe tbody tr th:only-of-type {\n",
              "        vertical-align: middle;\n",
              "    }\n",
              "\n",
              "    .dataframe tbody tr th {\n",
              "        vertical-align: top;\n",
              "    }\n",
              "\n",
              "    .dataframe thead th {\n",
              "        text-align: right;\n",
              "    }\n",
              "</style>\n",
              "<table border=\"1\" class=\"dataframe\">\n",
              "  <thead>\n",
              "    <tr style=\"text-align: right;\">\n",
              "      <th></th>\n",
              "      <th>host_id</th>\n",
              "      <th>host_name</th>\n",
              "      <th>neighbourhood_group</th>\n",
              "      <th>room_type</th>\n",
              "      <th>total_reviews</th>\n",
              "    </tr>\n",
              "  </thead>\n",
              "  <tbody>\n",
              "    <tr>\n",
              "      <th>21116</th>\n",
              "      <td>37312959</td>\n",
              "      <td>Maya</td>\n",
              "      <td>Queens</td>\n",
              "      <td>Private room</td>\n",
              "      <td>2273</td>\n",
              "    </tr>\n",
              "    <tr>\n",
              "      <th>1077</th>\n",
              "      <td>344035</td>\n",
              "      <td>Brooklyn&amp;   Breakfast    -Len-</td>\n",
              "      <td>Brooklyn</td>\n",
              "      <td>Private room</td>\n",
              "      <td>2205</td>\n",
              "    </tr>\n",
              "    <tr>\n",
              "      <th>20696</th>\n",
              "      <td>35524316</td>\n",
              "      <td>Yasu &amp; Akiko</td>\n",
              "      <td>Manhattan</td>\n",
              "      <td>Private room</td>\n",
              "      <td>1837</td>\n",
              "    </tr>\n",
              "    <tr>\n",
              "      <th>21737</th>\n",
              "      <td>40176101</td>\n",
              "      <td>Brady</td>\n",
              "      <td>Brooklyn</td>\n",
              "      <td>Private room</td>\n",
              "      <td>1818</td>\n",
              "    </tr>\n",
              "    <tr>\n",
              "      <th>7323</th>\n",
              "      <td>4734398</td>\n",
              "      <td>Jj</td>\n",
              "      <td>Manhattan</td>\n",
              "      <td>Private room</td>\n",
              "      <td>1798</td>\n",
              "    </tr>\n",
              "  </tbody>\n",
              "</table>\n",
              "</div>"
            ],
            "text/plain": [
              "        host_id                       host_name  ...     room_type total_reviews\n",
              "21116  37312959                            Maya  ...  Private room          2273\n",
              "1077     344035  Brooklyn&   Breakfast    -Len-  ...  Private room          2205\n",
              "20696  35524316                    Yasu & Akiko  ...  Private room          1837\n",
              "21737  40176101                           Brady  ...  Private room          1818\n",
              "7323    4734398                              Jj  ...  Private room          1798\n",
              "\n",
              "[5 rows x 5 columns]"
            ]
          },
          "metadata": {},
          "execution_count": 50
        }
      ]
    },
    {
      "cell_type": "markdown",
      "metadata": {
        "id": "npi04Q4ejsyC"
      },
      "source": [
        "\n",
        "\n",
        "*  Maya has the maximum  no of total reviews i.e 2273 , his average room rent price is around 45$ and available for 150 days out of 365 \n",
        "*  Host's who is having private rooms as their room types  and the minimum_night stay is 1 nights ,are mostly to get more number of reviews   \n",
        "\n"
      ]
    },
    {
      "cell_type": "code",
      "metadata": {
        "id": "coewTXVMfhp6"
      },
      "source": [
        ""
      ],
      "execution_count": null,
      "outputs": []
    },
    {
      "cell_type": "markdown",
      "metadata": {
        "id": "xrwFb1Jd0Thp"
      },
      "source": [
        "# **Average minimum numbers of night of differtent room types** "
      ]
    },
    {
      "cell_type": "code",
      "metadata": {
        "id": "A8mb4-PGQWL4",
        "colab": {
          "base_uri": "https://localhost:8080/"
        },
        "outputId": "1570d7eb-b5ac-4565-a1a5-23a130c2ea36"
      },
      "source": [
        "mini=df.groupby(['room_type'])['minimum_nights'].mean().reset_index().sort_values('minimum_nights',ascending=False)\n",
        "mini"
      ],
      "execution_count": null,
      "outputs": [
        {
          "output_type": "execute_result",
          "data": {
            "text/html": [
              "<div>\n",
              "<style scoped>\n",
              "    .dataframe tbody tr th:only-of-type {\n",
              "        vertical-align: middle;\n",
              "    }\n",
              "\n",
              "    .dataframe tbody tr th {\n",
              "        vertical-align: top;\n",
              "    }\n",
              "\n",
              "    .dataframe thead th {\n",
              "        text-align: right;\n",
              "    }\n",
              "</style>\n",
              "<table border=\"1\" class=\"dataframe\">\n",
              "  <thead>\n",
              "    <tr style=\"text-align: right;\">\n",
              "      <th></th>\n",
              "      <th>room_type</th>\n",
              "      <th>minimum_nights</th>\n",
              "    </tr>\n",
              "  </thead>\n",
              "  <tbody>\n",
              "    <tr>\n",
              "      <th>0</th>\n",
              "      <td>Entire home/apt</td>\n",
              "      <td>8.541840</td>\n",
              "    </tr>\n",
              "    <tr>\n",
              "      <th>2</th>\n",
              "      <td>Shared room</td>\n",
              "      <td>6.522847</td>\n",
              "    </tr>\n",
              "    <tr>\n",
              "      <th>1</th>\n",
              "      <td>Private room</td>\n",
              "      <td>5.297963</td>\n",
              "    </tr>\n",
              "  </tbody>\n",
              "</table>\n",
              "</div>"
            ],
            "text/plain": [
              "         room_type  minimum_nights\n",
              "0  Entire home/apt        8.541840\n",
              "2      Shared room        6.522847\n",
              "1     Private room        5.297963"
            ]
          },
          "metadata": {},
          "execution_count": 51
        }
      ]
    },
    {
      "cell_type": "code",
      "metadata": {
        "colab": {
          "base_uri": "https://localhost:8080/"
        },
        "id": "uLF8R4oPmltl",
        "outputId": "a07e9388-3749-4c93-cf72-03487b23dac5"
      },
      "source": [
        "sns.barplot(x='room_type',y='minimum_nights',data=mini)"
      ],
      "execution_count": null,
      "outputs": [
        {
          "output_type": "execute_result",
          "data": {
            "text/plain": [
              "<matplotlib.axes._subplots.AxesSubplot at 0x7f9c95784350>"
            ]
          },
          "metadata": {},
          "execution_count": 52
        },
        {
          "output_type": "display_data",
          "data": {
            "image/png": "[encoded data removed]",
            "text/plain": [
              "<Figure size 432x288 with 1 Axes>"
            ]
          },
          "metadata": {}
        }
      ]
    },
    {
      "cell_type": "markdown",
      "metadata": {
        "id": "kdSlibsLMaoI"
      },
      "source": [
        "\n",
        "*  Entire home/apt\troom type have highest avaerage minimum night stay of 8 night stay \n",
        "*  Private room types have least least avaerage minimum night stay of 5 night stay \n"
      ]
    },
    {
      "cell_type": "code",
      "metadata": {
        "id": "xc5eLOf2uRHs"
      },
      "source": [
        ""
      ],
      "execution_count": null,
      "outputs": []
    },
    {
      "cell_type": "markdown",
      "metadata": {
        "id": "ZMBAsILFZRUl"
      },
      "source": [
        "# **Top 5 property counts with least number of mimimum nights and the average price of property with particular minimum nights**"
      ]
    },
    {
      "cell_type": "code",
      "metadata": {
        "colab": {
          "base_uri": "https://localhost:8080/"
        },
        "id": "ApVeqIITZRUm",
        "outputId": "fc6de0ea-e467-4952-8af5-c543d69458ce"
      },
      "source": [
        "df100=df.groupby(['minimum_nights']).agg({'price':'mean','name':'count'}).reset_index().rename(columns={'name':'property_counts'}).sort_values('property_counts',ascending=False).head()\n",
        "df100"
      ],
      "execution_count": null,
      "outputs": [
        {
          "output_type": "execute_result",
          "data": {
            "text/html": [
              "<div>\n",
              "<style scoped>\n",
              "    .dataframe tbody tr th:only-of-type {\n",
              "        vertical-align: middle;\n",
              "    }\n",
              "\n",
              "    .dataframe tbody tr th {\n",
              "        vertical-align: top;\n",
              "    }\n",
              "\n",
              "    .dataframe thead th {\n",
              "        text-align: right;\n",
              "    }\n",
              "</style>\n",
              "<table border=\"1\" class=\"dataframe\">\n",
              "  <thead>\n",
              "    <tr style=\"text-align: right;\">\n",
              "      <th></th>\n",
              "      <th>minimum_nights</th>\n",
              "      <th>price</th>\n",
              "      <th>property_counts</th>\n",
              "    </tr>\n",
              "  </thead>\n",
              "  <tbody>\n",
              "    <tr>\n",
              "      <th>0</th>\n",
              "      <td>1</td>\n",
              "      <td>104.978092</td>\n",
              "      <td>12067</td>\n",
              "    </tr>\n",
              "    <tr>\n",
              "      <th>1</th>\n",
              "      <td>2</td>\n",
              "      <td>123.830233</td>\n",
              "      <td>11080</td>\n",
              "    </tr>\n",
              "    <tr>\n",
              "      <th>2</th>\n",
              "      <td>3</td>\n",
              "      <td>128.938069</td>\n",
              "      <td>7375</td>\n",
              "    </tr>\n",
              "    <tr>\n",
              "      <th>29</th>\n",
              "      <td>30</td>\n",
              "      <td>136.934311</td>\n",
              "      <td>3493</td>\n",
              "    </tr>\n",
              "    <tr>\n",
              "      <th>3</th>\n",
              "      <td>4</td>\n",
              "      <td>131.487458</td>\n",
              "      <td>3066</td>\n",
              "    </tr>\n",
              "  </tbody>\n",
              "</table>\n",
              "</div>"
            ],
            "text/plain": [
              "    minimum_nights       price  property_counts\n",
              "0                1  104.978092            12067\n",
              "1                2  123.830233            11080\n",
              "2                3  128.938069             7375\n",
              "29              30  136.934311             3493\n",
              "3                4  131.487458             3066"
            ]
          },
          "metadata": {},
          "execution_count": 53
        }
      ]
    },
    {
      "cell_type": "code",
      "metadata": {
        "colab": {
          "base_uri": "https://localhost:8080/"
        },
        "id": "cgBVNwFfZRUo",
        "outputId": "bac7cab0-4c96-4940-c74b-7800bb06d745"
      },
      "source": [
        "plt.figure(figsize=(25,8))\n",
        "\n",
        "plt.subplot(1,2,1)\n",
        "sns.barplot(x=df100.minimum_nights, y=df100.property_counts)\n",
        "\n",
        "plt.subplot(1,2,2)\n",
        "sns.barplot(x=df100.minimum_nights, y=df100.price)"
      ],
      "execution_count": null,
      "outputs": [
        {
          "output_type": "execute_result",
          "data": {
            "text/plain": [
              "<matplotlib.axes._subplots.AxesSubplot at 0x7f9c9575bc90>"
            ]
          },
          "metadata": {},
          "execution_count": 54
        },
        {
          "output_type": "display_data",
          "data": {
            "image/png": "[encoded data removed]",
            "text/plain": [
              "<Figure size 1800x576 with 2 Axes>"
            ]
          },
          "metadata": {}
        }
      ]
    },
    {
      "cell_type": "markdown",
      "metadata": {
        "id": "A3rLC7qfZRUq"
      },
      "source": [
        "\n",
        "\n",
        "*  Maximum number of properties listed on Airbnb has minimum nights stay of 1 and 2 nights\n",
        "\n",
        "*   Lesser the minimum nights cheaper is the price this implies that they are postive correlated \n",
        "  \n",
        "\n",
        "\n",
        "\n",
        "\n"
      ]
    },
    {
      "cell_type": "code",
      "metadata": {
        "colab": {
          "base_uri": "https://localhost:8080/"
        },
        "id": "ANoE-K0GZRUq",
        "outputId": "921e2248-57ab-49bd-a30d-fcf92c788497"
      },
      "source": [
        "df1 = df[['price', 'minimum_nights']]\n",
        "corr_df1=df1.corr()\n",
        "sns.heatmap(corr_df1,annot=True)"
      ],
      "execution_count": null,
      "outputs": [
        {
          "output_type": "execute_result",
          "data": {
            "text/plain": [
              "<matplotlib.axes._subplots.AxesSubplot at 0x7f9c9563f890>"
            ]
          },
          "metadata": {},
          "execution_count": 55
        },
        {
          "output_type": "display_data",
          "data": {
            "image/png": "[encoded data removed]",
            "text/plain": [
              "<Figure size 432x288 with 2 Axes>"
            ]
          },
          "metadata": {}
        }
      ]
    },
    {
      "cell_type": "code",
      "metadata": {
        "id": "pSaq2NPnbg4n"
      },
      "source": [
        ""
      ],
      "execution_count": null,
      "outputs": []
    },
    {
      "cell_type": "markdown",
      "metadata": {
        "id": "NiQqKf4bN-VF"
      },
      "source": [
        "# **Top 5 host with minimum possible earnings** "
      ]
    },
    {
      "cell_type": "code",
      "metadata": {
        "colab": {
          "base_uri": "https://localhost:8080/",
          "height": 204
        },
        "id": "DwrQfrz18C-1",
        "outputId": "4bc6f794-1a4b-478d-b5e3-33b7fbb55e70"
      },
      "source": [
        "df1=df.groupby(['host_id','host_name','minimum_nights','price']).agg({'number_of_reviews':'sum'}).reset_index().sort_values('minimum_nights' , ascending = True)\n",
        "df1.head()"
      ],
      "execution_count": null,
      "outputs": [
        {
          "output_type": "execute_result",
          "data": {
            "text/html": [
              "<div>\n",
              "<style scoped>\n",
              "    .dataframe tbody tr th:only-of-type {\n",
              "        vertical-align: middle;\n",
              "    }\n",
              "\n",
              "    .dataframe tbody tr th {\n",
              "        vertical-align: top;\n",
              "    }\n",
              "\n",
              "    .dataframe thead th {\n",
              "        text-align: right;\n",
              "    }\n",
              "</style>\n",
              "<table border=\"1\" class=\"dataframe\">\n",
              "  <thead>\n",
              "    <tr style=\"text-align: right;\">\n",
              "      <th></th>\n",
              "      <th>host_id</th>\n",
              "      <th>host_name</th>\n",
              "      <th>minimum_nights</th>\n",
              "      <th>price</th>\n",
              "      <th>number_of_reviews</th>\n",
              "    </tr>\n",
              "  </thead>\n",
              "  <tbody>\n",
              "    <tr>\n",
              "      <th>35673</th>\n",
              "      <td>145975067</td>\n",
              "      <td>Ousmane</td>\n",
              "      <td>1</td>\n",
              "      <td>70.0</td>\n",
              "      <td>25</td>\n",
              "    </tr>\n",
              "    <tr>\n",
              "      <th>21170</th>\n",
              "      <td>27567524</td>\n",
              "      <td>David</td>\n",
              "      <td>1</td>\n",
              "      <td>70.0</td>\n",
              "      <td>0</td>\n",
              "    </tr>\n",
              "    <tr>\n",
              "      <th>9598</th>\n",
              "      <td>6197784</td>\n",
              "      <td>Jo</td>\n",
              "      <td>1</td>\n",
              "      <td>90.0</td>\n",
              "      <td>9</td>\n",
              "    </tr>\n",
              "    <tr>\n",
              "      <th>21167</th>\n",
              "      <td>27560165</td>\n",
              "      <td>Amanda</td>\n",
              "      <td>1</td>\n",
              "      <td>45.0</td>\n",
              "      <td>0</td>\n",
              "    </tr>\n",
              "    <tr>\n",
              "      <th>9601</th>\n",
              "      <td>6198824</td>\n",
              "      <td>Tyler</td>\n",
              "      <td>1</td>\n",
              "      <td>251.0</td>\n",
              "      <td>12</td>\n",
              "    </tr>\n",
              "  </tbody>\n",
              "</table>\n",
              "</div>"
            ],
            "text/plain": [
              "         host_id host_name  minimum_nights  price  number_of_reviews\n",
              "35673  145975067   Ousmane               1   70.0                 25\n",
              "21170   27567524     David               1   70.0                  0\n",
              "9598     6197784        Jo               1   90.0                  9\n",
              "21167   27560165    Amanda               1   45.0                  0\n",
              "9601     6198824     Tyler               1  251.0                 12"
            ]
          },
          "metadata": {},
          "execution_count": 56
        }
      ]
    },
    {
      "cell_type": "code",
      "metadata": {
        "colab": {
          "base_uri": "https://localhost:8080/",
          "height": 419
        },
        "id": "HlRaTDOuQQqB",
        "outputId": "a016b6c2-676b-4175-85d1-b37c5427939d"
      },
      "source": [
        "df1['earnings']= (df1.minimum_nights*df1.price*df1.number_of_reviews)\n",
        "df1"
      ],
      "execution_count": null,
      "outputs": [
        {
          "output_type": "execute_result",
          "data": {
            "text/html": [
              "<div>\n",
              "<style scoped>\n",
              "    .dataframe tbody tr th:only-of-type {\n",
              "        vertical-align: middle;\n",
              "    }\n",
              "\n",
              "    .dataframe tbody tr th {\n",
              "        vertical-align: top;\n",
              "    }\n",
              "\n",
              "    .dataframe thead th {\n",
              "        text-align: right;\n",
              "    }\n",
              "</style>\n",
              "<table border=\"1\" class=\"dataframe\">\n",
              "  <thead>\n",
              "    <tr style=\"text-align: right;\">\n",
              "      <th></th>\n",
              "      <th>host_id</th>\n",
              "      <th>host_name</th>\n",
              "      <th>minimum_nights</th>\n",
              "      <th>price</th>\n",
              "      <th>number_of_reviews</th>\n",
              "      <th>earnings</th>\n",
              "    </tr>\n",
              "  </thead>\n",
              "  <tbody>\n",
              "    <tr>\n",
              "      <th>35673</th>\n",
              "      <td>145975067</td>\n",
              "      <td>Ousmane</td>\n",
              "      <td>1</td>\n",
              "      <td>70.0</td>\n",
              "      <td>25</td>\n",
              "      <td>1750.0</td>\n",
              "    </tr>\n",
              "    <tr>\n",
              "      <th>21170</th>\n",
              "      <td>27567524</td>\n",
              "      <td>David</td>\n",
              "      <td>1</td>\n",
              "      <td>70.0</td>\n",
              "      <td>0</td>\n",
              "      <td>0.0</td>\n",
              "    </tr>\n",
              "    <tr>\n",
              "      <th>9598</th>\n",
              "      <td>6197784</td>\n",
              "      <td>Jo</td>\n",
              "      <td>1</td>\n",
              "      <td>90.0</td>\n",
              "      <td>9</td>\n",
              "      <td>810.0</td>\n",
              "    </tr>\n",
              "    <tr>\n",
              "      <th>21167</th>\n",
              "      <td>27560165</td>\n",
              "      <td>Amanda</td>\n",
              "      <td>1</td>\n",
              "      <td>45.0</td>\n",
              "      <td>0</td>\n",
              "      <td>0.0</td>\n",
              "    </tr>\n",
              "    <tr>\n",
              "      <th>9601</th>\n",
              "      <td>6198824</td>\n",
              "      <td>Tyler</td>\n",
              "      <td>1</td>\n",
              "      <td>251.0</td>\n",
              "      <td>12</td>\n",
              "      <td>3012.0</td>\n",
              "    </tr>\n",
              "    <tr>\n",
              "      <th>...</th>\n",
              "      <td>...</td>\n",
              "      <td>...</td>\n",
              "      <td>...</td>\n",
              "      <td>...</td>\n",
              "      <td>...</td>\n",
              "      <td>...</td>\n",
              "    </tr>\n",
              "    <tr>\n",
              "      <th>13329</th>\n",
              "      <td>10720264</td>\n",
              "      <td>John</td>\n",
              "      <td>500</td>\n",
              "      <td>75.0</td>\n",
              "      <td>0</td>\n",
              "      <td>0.0</td>\n",
              "    </tr>\n",
              "    <tr>\n",
              "      <th>5468</th>\n",
              "      <td>2697686</td>\n",
              "      <td>Glenn H.</td>\n",
              "      <td>999</td>\n",
              "      <td>99.0</td>\n",
              "      <td>2</td>\n",
              "      <td>197802.0</td>\n",
              "    </tr>\n",
              "    <tr>\n",
              "      <th>35952</th>\n",
              "      <td>151084261</td>\n",
              "      <td>Angie</td>\n",
              "      <td>999</td>\n",
              "      <td>79.0</td>\n",
              "      <td>24</td>\n",
              "      <td>1894104.0</td>\n",
              "    </tr>\n",
              "    <tr>\n",
              "      <th>38502</th>\n",
              "      <td>200401254</td>\n",
              "      <td>Meg</td>\n",
              "      <td>999</td>\n",
              "      <td>110.0</td>\n",
              "      <td>0</td>\n",
              "      <td>0.0</td>\n",
              "    </tr>\n",
              "    <tr>\n",
              "      <th>16879</th>\n",
              "      <td>17550546</td>\n",
              "      <td>Genevieve</td>\n",
              "      <td>1250</td>\n",
              "      <td>180.0</td>\n",
              "      <td>2</td>\n",
              "      <td>450000.0</td>\n",
              "    </tr>\n",
              "  </tbody>\n",
              "</table>\n",
              "<p>42641 rows × 6 columns</p>\n",
              "</div>"
            ],
            "text/plain": [
              "         host_id  host_name  ...  number_of_reviews   earnings\n",
              "35673  145975067    Ousmane  ...                 25     1750.0\n",
              "21170   27567524      David  ...                  0        0.0\n",
              "9598     6197784         Jo  ...                  9      810.0\n",
              "21167   27560165     Amanda  ...                  0        0.0\n",
              "9601     6198824      Tyler  ...                 12     3012.0\n",
              "...          ...        ...  ...                ...        ...\n",
              "13329   10720264       John  ...                  0        0.0\n",
              "5468     2697686   Glenn H.  ...                  2   197802.0\n",
              "35952  151084261      Angie  ...                 24  1894104.0\n",
              "38502  200401254        Meg  ...                  0        0.0\n",
              "16879   17550546  Genevieve  ...                  2   450000.0\n",
              "\n",
              "[42641 rows x 6 columns]"
            ]
          },
          "metadata": {},
          "execution_count": 57
        }
      ]
    },
    {
      "cell_type": "code",
      "metadata": {
        "colab": {
          "base_uri": "https://localhost:8080/",
          "height": 204
        },
        "id": "kLZ9Wh3jQ3c2",
        "outputId": "2602e903-764b-4a4a-b583-4f579f200e1d"
      },
      "source": [
        "top_earner_df = df1.groupby(['host_id','host_name'])['earnings'].sum().reset_index().sort_values('earnings',ascending=False).rename(columns={'earnings':'Total_earning'}).head(5)\n",
        "top_earner_df"
      ],
      "execution_count": null,
      "outputs": [
        {
          "output_type": "execute_result",
          "data": {
            "text/html": [
              "<div>\n",
              "<style scoped>\n",
              "    .dataframe tbody tr th:only-of-type {\n",
              "        vertical-align: middle;\n",
              "    }\n",
              "\n",
              "    .dataframe tbody tr th {\n",
              "        vertical-align: top;\n",
              "    }\n",
              "\n",
              "    .dataframe thead th {\n",
              "        text-align: right;\n",
              "    }\n",
              "</style>\n",
              "<table border=\"1\" class=\"dataframe\">\n",
              "  <thead>\n",
              "    <tr style=\"text-align: right;\">\n",
              "      <th></th>\n",
              "      <th>host_id</th>\n",
              "      <th>host_name</th>\n",
              "      <th>Total_earning</th>\n",
              "    </tr>\n",
              "  </thead>\n",
              "  <tbody>\n",
              "    <tr>\n",
              "      <th>11527</th>\n",
              "      <td>10992588</td>\n",
              "      <td>Joni</td>\n",
              "      <td>14079600.0</td>\n",
              "    </tr>\n",
              "    <tr>\n",
              "      <th>9068</th>\n",
              "      <td>7245581</td>\n",
              "      <td>Michael</td>\n",
              "      <td>2911851.0</td>\n",
              "    </tr>\n",
              "    <tr>\n",
              "      <th>18894</th>\n",
              "      <td>31626212</td>\n",
              "      <td>Troy</td>\n",
              "      <td>2609937.0</td>\n",
              "    </tr>\n",
              "    <tr>\n",
              "      <th>5934</th>\n",
              "      <td>3831783</td>\n",
              "      <td>Shahar</td>\n",
              "      <td>2300510.0</td>\n",
              "    </tr>\n",
              "    <tr>\n",
              "      <th>10651</th>\n",
              "      <td>9716281</td>\n",
              "      <td>Sarah</td>\n",
              "      <td>2275000.0</td>\n",
              "    </tr>\n",
              "  </tbody>\n",
              "</table>\n",
              "</div>"
            ],
            "text/plain": [
              "        host_id host_name  Total_earning\n",
              "11527  10992588      Joni     14079600.0\n",
              "9068    7245581   Michael      2911851.0\n",
              "18894  31626212      Troy      2609937.0\n",
              "5934    3831783    Shahar      2300510.0\n",
              "10651   9716281     Sarah      2275000.0"
            ]
          },
          "metadata": {},
          "execution_count": 58
        }
      ]
    },
    {
      "cell_type": "code",
      "metadata": {
        "id": "fUvsC_hFpwg-"
      },
      "source": [
        "df1=df[(df.host_id==10992588)|(df.host_id==7245581)|(df.host_id==31626212)|(df.host_id==3831783)|(df.host_id==9716281)]"
      ],
      "execution_count": null,
      "outputs": []
    },
    {
      "cell_type": "code",
      "metadata": {
        "colab": {
          "base_uri": "https://localhost:8080/",
          "height": 313
        },
        "id": "Cazrbmwdpwg_",
        "outputId": "d3e8f455-c2e8-460f-ab5e-68168ac9c03b"
      },
      "source": [
        "df2=df1.groupby(['host_name'])['calculated_host_listings_count'].count().reset_index()\n",
        "df3=df1.groupby(['host_name'])['number_of_reviews'].sum().reset_index()\n",
        "df4=df1.groupby(['host_name'])['minimum_nights'].median().reset_index()\n",
        "df5=df1.groupby(['host_name'])['price'].mean().reset_index().rename(columns={'price':'averg_price'})\n",
        "\n",
        "\n",
        "plt.figure(figsize=(25,8))\n",
        "\n",
        "plt.subplot(2,4,1)\n",
        "sns.barplot(x=top_earner_df.host_name, y=top_earner_df.Total_earning)\n",
        "\n",
        "plt.subplot(2,4,2)\n",
        "sns.barplot(x=df2.host_name, y=df2.calculated_host_listings_count)\n",
        "\n",
        "plt.subplot(2,4,3)\n",
        "sns.barplot(x=df5.host_name, y=df5.averg_price)\n",
        "\n",
        "plt.subplot(2,4,4)\n",
        "sns.barplot(x=df3.host_name, y=df3.number_of_reviews)\n",
        "\n"
      ],
      "execution_count": null,
      "outputs": [
        {
          "output_type": "execute_result",
          "data": {
            "text/plain": [
              "<matplotlib.axes._subplots.AxesSubplot at 0x7f9c956bb8d0>"
            ]
          },
          "metadata": {},
          "execution_count": 62
        },
        {
          "output_type": "display_data",
          "data": {
            "image/png": "[encoded data removed]",
            "text/plain": [
              "<Figure size 1800x576 with 4 Axes>"
            ]
          },
          "metadata": {}
        }
      ]
    },
    {
      "cell_type": "markdown",
      "metadata": {
        "id": "9z9tSSRRORF_"
      },
      "source": [
        "\n",
        "\n",
        "*  Joni's earning is maximum (1.4 Cr) compared to other hosts \n",
        "*  His average room price is around 120$\n",
        "\n",
        "*   He has listed only 2 times on Airbnb and has 580+ reviews\n",
        "\n",
        "\n",
        "\n"
      ]
    },
    {
      "cell_type": "code",
      "metadata": {
        "id": "1juj8nKl1KFj"
      },
      "source": [
        ""
      ],
      "execution_count": null,
      "outputs": []
    },
    {
      "cell_type": "markdown",
      "metadata": {
        "id": "zjtOVIyAYfC4"
      },
      "source": [
        "# **Overall Correlation with Price**"
      ]
    },
    {
      "cell_type": "code",
      "metadata": {
        "id": "HyGoDFPy8v15"
      },
      "source": [
        "df3 = df[['price','minimum_nights','calculated_host_listings_count',\t'number_of_reviews']]"
      ],
      "execution_count": null,
      "outputs": []
    },
    {
      "cell_type": "code",
      "metadata": {
        "colab": {
          "base_uri": "https://localhost:8080/"
        },
        "id": "12wTgr4anFI1",
        "outputId": "1097587b-f6fc-4a37-a6c2-c724e321aef9"
      },
      "source": [
        "sns.pairplot(df3)"
      ],
      "execution_count": null,
      "outputs": [
        {
          "output_type": "execute_result",
          "data": {
            "text/plain": [
              "<seaborn.axisgrid.PairGrid at 0x7f9c8afa9450>"
            ]
          },
          "metadata": {},
          "execution_count": 66
        },
        {
          "output_type": "display_data",
          "data": {
            "image/png": "[encoded data removed]",
            "text/plain": [
              "<Figure size 720x720 with 20 Axes>"
            ]
          },
          "metadata": {}
        }
      ]
    },
    {
      "cell_type": "code",
      "metadata": {
        "colab": {
          "base_uri": "https://localhost:8080/",
          "height": 464
        },
        "id": "wk_Vm8B_Tq9P",
        "outputId": "510c7a90-65f8-4b38-ae0c-f6641145ab0f"
      },
      "source": [
        "df1=df[['price','minimum_nights','number_of_reviews','calculated_host_listings_count']]\n",
        "corr_df1=df1.corr()\n",
        "sns.heatmap(corr_df1,annot=True).set_title('Overall Correlation with Price',fontsize =20)"
      ],
      "execution_count": null,
      "outputs": [
        {
          "output_type": "execute_result",
          "data": {
            "text/plain": [
              "Text(0.5, 1.0, 'Overall Correlation with Price')"
            ]
          },
          "metadata": {},
          "execution_count": 64
        },
        {
          "output_type": "display_data",
          "data": {
            "image/png": "[encoded data removed]",
            "text/plain": [
              "<Figure size 432x288 with 2 Axes>"
            ]
          },
          "metadata": {}
        }
      ]
    },
    {
      "cell_type": "markdown",
      "metadata": {
        "id": "3YFCLFKVt5pQ"
      },
      "source": [
        "\n",
        "* Most of the properties with cheaper price ,often gets more number of reviews as compare to the properties with higher price. That is maybe because people prefer renting cheaper property, which leads to more reviews.\n",
        "* Most of the properties with less  minimum nights ,has higher price, So booking a property that has maximum minimum nights  will be cheaper .\n",
        "\n",
        "* Less minimum nights, higher is the number of review . \n",
        "This is because if a host gets rental for his properties, for 60 days, then he  will not get booking for atleast 60 days, he gets atmost 1 review within 2-3 months. \n",
        "And the host who has set minimum_nights as 1 or  2 will get atleast 1 booking within2-3 months, hence he will get atleast 1 review with in 2-3 months.\n",
        "\n",
        "\n",
        "\n",
        "* number_of_reviews is negativly correlated with host listing count, this doesn't make sense\n",
        "* we see that small positive correlation between price and number of host isting counts (17%) there is slite rise in price with increase in host listing counts."
      ]
    }
  ]
}